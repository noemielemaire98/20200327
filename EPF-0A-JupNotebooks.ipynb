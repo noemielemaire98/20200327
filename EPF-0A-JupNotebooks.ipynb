{
 "cells": [
  {
   "cell_type": "markdown",
   "metadata": {},
   "source": [
    "<table>\n",
    "   <tr>\n",
    "     <td><img src=\"./images/epf-header.png\" alt=\"Note: In order for images to show up in this jupyter notebook you need to select File => Trusted Notebook\" width=\"500 px\" align=\"left\"></td>\n",
    "      </tr>\n",
    "</table>\n",
    "\n",
    "# Jupyter Notebooks\n",
    "\n",
    "Jean-Michel Torres 2019-07-22, IBM Q Hub France\n",
    "\n",
    "Star & Download from: https://github.com/jmit34/20200327\n"
   ]
  },
  {
   "cell_type": "code",
   "execution_count": 3,
   "metadata": {},
   "outputs": [],
   "source": [
    "a = 4"
   ]
  },
  {
   "cell_type": "code",
   "execution_count": 4,
   "metadata": {},
   "outputs": [],
   "source": [
    "b = 6"
   ]
  },
  {
   "cell_type": "code",
   "execution_count": 5,
   "metadata": {},
   "outputs": [
    {
     "name": "stdout",
     "output_type": "stream",
     "text": [
      "6\n"
     ]
    }
   ],
   "source": [
    "print(b)"
   ]
  },
  {
   "cell_type": "markdown",
   "metadata": {},
   "source": [
    "Jupyter notebooks can be composed and used from the Jupyter local web client (filetype : .ipynb : \"Interactive PYthon NoteBook\"). \n",
    "\n",
    "A jupyter notebook contains:\n",
    "\n",
    "<ul>\n",
    "    <li>Code cells : where you can enteractively write and execute code (using Python or other selected programming language)</li>\n",
    "    <li>Markdown cells including:\n",
    "        <ul><li>MD formatted text</li>\n",
    "            <li>html tags</li>\n",
    "            <li>LaTeX</li>\n",
    "        </ul>\n",
    "    </li>\n",
    "</ul>\n",
    "as demonstrated below.\n",
    "\n",
    "### Double-click to edit, execute (`ctrl-enter`) to show result\n",
    "\n",
    "Use the control menus on top to manage (create, delete, move, execute) cells, files and settings."
   ]
  },
  {
   "cell_type": "markdown",
   "metadata": {},
   "source": [
    "##  1. This is some \"Markdown\" Language (.md)\n",
    "### Sub-title\n",
    "\n",
    "#### MD can do nice things, this is used in GitHub (README.md), for example a table: \n",
    "\n",
    "\n",
    "| Col 1     | Col 2  | Col 3 | \n",
    "| ----------- | ------------- |-----------------------------------------------| \n",
    "|First | 0.25| 10 | \n",
    "|Second | 0.25  | 22 | \n",
    "|Third | 0.5  | 3 | \n",
    "|TOTAL   | 1 |35 |\n",
    "\n",
    "A list: \n",
    "\n",
    "- one \n",
    "- two \n",
    "- three\n",
    "\n",
    "ordered and inluding other lists: \n",
    "\n",
    "1. one \n",
    "2. two\n",
    "    - alpha\n",
    "        - ein\n",
    "        - zwei\n",
    "    - beta\n",
    "3. three\n",
    "    - un\n",
    "    - deux\n",
    "    - trois\n",
    "4. four\n",
    "\n",
    "You can quote some code: \n",
    "\n",
    "`var coffee = new Coffee();\n",
    " if(coffee.empty) {\n",
    "    coffee.refill();\n",
    "    } else {\n",
    "    coffee.drink();\n",
    "}\n",
    "`\n",
    "\n",
    "include an image: \n",
    "\n",
    "![black coffee in white cup](./images/coffee.jpg)*A Cup of Coffee*\n",
    "\n",
    "And many other things, you can find a MarkDown User Guide [here](https://www.markdownguide.org/assets/book/markdown-guide.pdf).\n",
    "\n"
   ]
  },
  {
   "cell_type": "markdown",
   "metadata": {},
   "source": [
    "\n",
    " ## 2. <span style=\"color:red\"><em>This is using some HTML</em></span>\n",
    " \n",
    " You can do lists as well: \n",
    " \n",
    " <ol>\n",
    "    <li>one</li>\n",
    "    <li>two\n",
    "    <ul>\n",
    "        <li> alpha </li>\n",
    "        <li> beta </li>\n",
    "    </ul>\n",
    "    </li>\n",
    "    <li>three</li>\n",
    "    <li>for</li>\n",
    " </ol>\n",
    "    \n",
    "and images:     \n",
    "\n",
    "<img src=\"./images/coffee.jpg\" alt=\"Note: In order for images to show up in this jupyter notebook you need to select File => Trusted Notebook\" width=\"400 px\" align=\"center\">\n",
    "\n",
    "\n",
    "<a href=https://www.markdownguide.org/assets/book/markdown-guide.pdf><img src=\"./images/coffee.jpg\" alt=\"Note: In order for images to show up in this jupyter notebook you need to select File => Trusted Notebook\" width=\"400 px\" align=\"center\"></a>\n"
   ]
  },
  {
   "cell_type": "markdown",
   "metadata": {},
   "source": [
    "## 3. And this is some LaTeX:\n",
    "\n",
    "One can either imbed some values $\\theta_1 = \\pi/4$ or formulas $cos^2\\theta_1 + sin^2\\theta_1 = 1$  in the text, or in a block: \n",
    "\n",
    "\n",
    "\\begin{equation}\n",
    "I = \n",
    "\\left(\n",
    "\\begin{array}{cc}\n",
    " 1 & 0  \\\\\n",
    " 0 & 1  \\\\\n",
    "\\end{array}\n",
    "\\right)\n",
    "\\hspace{0.5cm}\n",
    "X = \n",
    "\\left(\n",
    "\\begin{array}{cc}\n",
    " 0 & 1  \\\\\n",
    " 1 & 0  \\\\\n",
    "\\end{array}\n",
    "\\right)\n",
    "\\hspace{0.5cm}\n",
    "Y = \n",
    "\\left(\n",
    "\\begin{array}{cc}\n",
    " 0 & -i  \\\\\n",
    " i & 0  \\\\\n",
    "\\end{array}\n",
    "\\right)\n",
    "\\hspace{0.5cm}\n",
    "Z = \n",
    "\\left(\n",
    "\\begin{array}{cc}\n",
    " 1 & 0  \\\\\n",
    " 0 & -1  \\\\\n",
    "\\end{array}\n",
    "\\right)\n",
    "\\hspace{0.5cm}\n",
    "\\\\\n",
    "S = \n",
    "\\left(\n",
    "\\begin{array}{cc}\n",
    " 1 & 0  \\\\\n",
    " 0 & i  \\\\\n",
    "\\end{array}\n",
    "\\right)\n",
    "\\hspace{0.5cm}\n",
    "T = \n",
    "\\left(\n",
    "\\begin{array}{cc}\n",
    " 1 & 0  \\\\\n",
    " 0 & e^{i\\pi/4}  \\\\\n",
    "\\end{array}\n",
    "\\right)\n",
    "\\hspace{0.5cm}\n",
    "H = \\frac{1}{\\sqrt{2}}\n",
    "\\left(\n",
    "\\begin{array}{cc}\n",
    " 1 & 1  \\\\\n",
    " 1 & -1  \\\\\n",
    "\\end{array}\n",
    "\\right)\n",
    "\\hspace{0.5cm}\n",
    "\\end{equation}\n",
    "\n"
   ]
  }
 ],
 "metadata": {
  "kernelspec": {
   "display_name": "Python 3",
   "language": "python",
   "name": "python3"
  },
  "language_info": {
   "codemirror_mode": {
    "name": "ipython",
    "version": 3
   },
   "file_extension": ".py",
   "mimetype": "text/x-python",
   "name": "python",
   "nbconvert_exporter": "python",
   "pygments_lexer": "ipython3",
   "version": "3.7.3"
  }
 },
 "nbformat": 4,
 "nbformat_minor": 2
}
