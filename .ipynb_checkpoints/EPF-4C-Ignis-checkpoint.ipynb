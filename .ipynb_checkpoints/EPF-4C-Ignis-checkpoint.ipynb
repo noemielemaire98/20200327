{
 "cells": [
  {
   "cell_type": "markdown",
   "metadata": {},
   "source": [
    "<table>\n",
    "   <tr>\n",
    "     <td><img src=\"./images/epf-header.png\" alt=\"Note: In order for images to show up in this jupyter notebook you need to select File => Trusted Notebook\" width=\"500 px\" align=\"left\"></td>\n",
    "      </tr>\n",
    "</table>\n",
    "\n",
    "## <center>Using Ignis to characterize noise and mitigate errors </center>\n",
    "\n",
    "Jean-Michel Torres, 20200307, IBM Q Hub France, torresjm@fr.ibm.com</em>\n",
    "\n",
    "***Star***, download, ou utiliser depuis `mybinder` : \n",
    "\n",
    "# https://github.com/jmit34/20200327\n",
    "\n"
   ]
  },
  {
   "cell_type": "code",
   "execution_count": null,
   "metadata": {},
   "outputs": [],
   "source": [
    "from qiskit import *"
   ]
  },
  {
   "cell_type": "markdown",
   "metadata": {},
   "source": [
    "# With 3 quibit intrication"
   ]
  },
  {
   "cell_type": "code",
   "execution_count": null,
   "metadata": {},
   "outputs": [],
   "source": [
    "nqubits = 3\n",
    "ncbits = 3\n",
    "circuit = QuantumCircuit(nqubits, ncbits)\n",
    "\n",
    "circuit.h(0)\n",
    "circuit.cx(0,1)\n",
    "circuit.cx(1,2)\n",
    "circuit.measure([0,1,2],[0,1,2])"
   ]
  },
  {
   "cell_type": "code",
   "execution_count": null,
   "metadata": {},
   "outputs": [],
   "source": [
    "%matplotlib inline\n",
    "circuit.draw(output=\"mpl\")"
   ]
  },
  {
   "cell_type": "code",
   "execution_count": null,
   "metadata": {},
   "outputs": [],
   "source": [
    "simulator = Aer.get_backend('qasm_simulator')\n",
    "sim_result = execute(circuit, backend = simulator, shots = 1024).result()\n",
    "sim_result"
   ]
  },
  {
   "cell_type": "code",
   "execution_count": null,
   "metadata": {},
   "outputs": [],
   "source": [
    "from qiskit.visualization import plot_histogram"
   ]
  },
  {
   "cell_type": "code",
   "execution_count": null,
   "metadata": {},
   "outputs": [],
   "source": [
    "plot_histogram(sim_result.get_counts(circuit))"
   ]
  },
  {
   "cell_type": "markdown",
   "metadata": {},
   "source": [
    "### Everything s nice on the simulator, let's run on a real device: "
   ]
  },
  {
   "cell_type": "code",
   "execution_count": null,
   "metadata": {},
   "outputs": [],
   "source": [
    "IBMQ.load_account()\n",
    "provider = IBMQ.get_provider(hub = 'ibm-q')\n",
    "device = provider.get_backend('ibmq_vigo')"
   ]
  },
  {
   "cell_type": "code",
   "execution_count": null,
   "metadata": {},
   "outputs": [],
   "source": [
    "job = execute(circuit, backend = device, shots = 1024)\n",
    "print(job.job_id())\n",
    "from qiskit.tools.monitor import job_monitor\n",
    "job_monitor(job)"
   ]
  },
  {
   "cell_type": "code",
   "execution_count": null,
   "metadata": {
    "scrolled": true
   },
   "outputs": [],
   "source": [
    "device_result = job.result()\n",
    "plot_histogram(device_result.get_counts(circuit))"
   ]
  },
  {
   "cell_type": "code",
   "execution_count": null,
   "metadata": {},
   "outputs": [],
   "source": [
    "device_result"
   ]
  },
  {
   "cell_type": "markdown",
   "metadata": {},
   "source": [
    "### So we have noise, let's caracterize and mitigate"
   ]
  },
  {
   "cell_type": "code",
   "execution_count": null,
   "metadata": {},
   "outputs": [],
   "source": [
    "from qiskit.ignis.mitigation.measurement import complete_meas_cal , CompleteMeasFitter"
   ]
  },
  {
   "cell_type": "code",
   "execution_count": null,
   "metadata": {},
   "outputs": [],
   "source": [
    "cal_circuits, state_labels = complete_meas_cal(qr = circuit.qregs[0], circlabel = 'measerrormitigationcal')"
   ]
  },
  {
   "cell_type": "code",
   "execution_count": null,
   "metadata": {},
   "outputs": [],
   "source": [
    "cal_circuits[7].draw(output='mpl')"
   ]
  },
  {
   "cell_type": "code",
   "execution_count": null,
   "metadata": {},
   "outputs": [],
   "source": [
    "print(state_labels)"
   ]
  },
  {
   "cell_type": "code",
   "execution_count": null,
   "metadata": {},
   "outputs": [],
   "source": [
    "cal_job = execute(cal_circuits, \n",
    "                 backend = device,\n",
    "                 shots = 1024,\n",
    "                 optimization_level = 0\n",
    "                 )\n",
    "\n",
    "print(cal_job.job_id())\n",
    "job_monitor(cal_job)\n",
    "cal_results = cal_job.result()\n",
    "cal_results"
   ]
  },
  {
   "cell_type": "code",
   "execution_count": null,
   "metadata": {},
   "outputs": [],
   "source": [
    "plot_histogram( cal_results.get_counts(cal_circuits[1]))\n"
   ]
  },
  {
   "cell_type": "code",
   "execution_count": null,
   "metadata": {},
   "outputs": [],
   "source": [
    "meas_fitter = CompleteMeasFitter(cal_results, state_labels)"
   ]
  },
  {
   "cell_type": "code",
   "execution_count": null,
   "metadata": {},
   "outputs": [],
   "source": [
    "meas_fitter.plot_calibration()"
   ]
  },
  {
   "cell_type": "code",
   "execution_count": null,
   "metadata": {},
   "outputs": [],
   "source": [
    "meas_filter = meas_fitter.filter"
   ]
  },
  {
   "cell_type": "code",
   "execution_count": null,
   "metadata": {},
   "outputs": [],
   "source": [
    "mitigated_result = meas_filter.apply(device_result)"
   ]
  },
  {
   "cell_type": "code",
   "execution_count": null,
   "metadata": {},
   "outputs": [],
   "source": [
    "device_counts = device_result.get_counts(circuit)\n",
    "mitigated_counts = mitigated_result.get_counts(circuit)\n",
    "plot_histogram([device_counts,mitigated_counts], legend = ['device results','mitigated device results'])"
   ]
  },
  {
   "cell_type": "code",
   "execution_count": null,
   "metadata": {},
   "outputs": [],
   "source": [
    "circ2 = QuantumCircuit(nqubits,ncbits)\n",
    "circ2.h(0)\n",
    "circ2.x(1)\n",
    "circ2.cx(0,1)\n",
    "circ2.cx(1,2)\n",
    "circ2.measure([0,1,2],[0,1,2])\n",
    "circ2.draw(output='mpl')"
   ]
  },
  {
   "cell_type": "code",
   "execution_count": null,
   "metadata": {},
   "outputs": [],
   "source": [
    "plot_histogram(execute(circ2, backend = simulator, shots = 1024).result().get_counts(circ2))"
   ]
  },
  {
   "cell_type": "code",
   "execution_count": null,
   "metadata": {},
   "outputs": [],
   "source": [
    "job2 = execute(circ2, backend=device, shots=1024)\n",
    "print(job2.job_id())\n",
    "job_monitor(job2)\n",
    "job2_results = job2.result()\n"
   ]
  },
  {
   "cell_type": "code",
   "execution_count": null,
   "metadata": {},
   "outputs": [],
   "source": [
    "device_count_2 = job2_results.get_counts(circ2)\n",
    "plot_histogram(device_count_2)"
   ]
  },
  {
   "cell_type": "code",
   "execution_count": null,
   "metadata": {},
   "outputs": [],
   "source": [
    "mitigated_counts_2 = meas_filter.apply(device_count_2)"
   ]
  },
  {
   "cell_type": "code",
   "execution_count": null,
   "metadata": {},
   "outputs": [],
   "source": [
    "plot_histogram([device_count_2,mitigated_counts_2], legend = ['device results','mitigated device results'])"
   ]
  },
  {
   "cell_type": "markdown",
   "metadata": {},
   "source": [
    "## Try it yourself using 4 qubits  : "
   ]
  },
  {
   "cell_type": "code",
   "execution_count": null,
   "metadata": {},
   "outputs": [],
   "source": [
    "circ4 = QuantumCircuit(nqubits+1, ncbits +1)\n",
    "circ4.h(0)\n",
    "circ4.h(1)\n",
    "circ4.cx(0,2)\n",
    "circ4.cx(1,3)\n",
    "#circ4.cx(2,3)\n",
    "circ4.measure([0,1,2,3],[0,1,2,3])\n",
    "circ4.draw(output='mpl')\n"
   ]
  },
  {
   "cell_type": "code",
   "execution_count": null,
   "metadata": {},
   "outputs": [],
   "source": [
    "plot_histogram(execute(circ4, backend = simulator, shots = 1024).result().get_counts(circ4))"
   ]
  },
  {
   "cell_type": "code",
   "execution_count": null,
   "metadata": {},
   "outputs": [],
   "source": [
    "job4 = execute(circ4, backend=device, shots=1024)\n",
    "print(job4.job_id())\n",
    "job_monitor(job4)\n",
    "job4_results = job4.result()\n"
   ]
  },
  {
   "cell_type": "code",
   "execution_count": null,
   "metadata": {},
   "outputs": [],
   "source": [
    "device_count_4 = job4_results.get_counts(circ4)\n",
    "plot_histogram(device_count_4)"
   ]
  }
 ],
 "metadata": {
  "kernelspec": {
   "display_name": "Python 3",
   "language": "python",
   "name": "python3"
  },
  "language_info": {
   "codemirror_mode": {
    "name": "ipython",
    "version": 3
   },
   "file_extension": ".py",
   "mimetype": "text/x-python",
   "name": "python",
   "nbconvert_exporter": "python",
   "pygments_lexer": "ipython3",
   "version": "3.7.3"
  }
 },
 "nbformat": 4,
 "nbformat_minor": 2
}
