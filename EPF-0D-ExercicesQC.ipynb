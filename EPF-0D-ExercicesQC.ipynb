{
 "cells": [
  {
   "cell_type": "markdown",
   "metadata": {},
   "source": [
    "<table>\n",
    "   <tr>\n",
    "     <td><img src=\"./images/epf-header.png\" alt=\"Note: In order for images to show up in this jupyter notebook you need to select File => Trusted Notebook\" width=\"600 px\" align=\"left\"></td>\n",
    "      </tr>\n",
    "</table>\n",
    "\n",
    "## <center>Exercices about Quantum computing, before qiskit</center>\n",
    "\n",
    "Jean-Michel Torres 2020-03-07, IBM Q Hub France, torresjm@fr.ibm.com\n",
    "\n",
    "***Star***, download : \n",
    "\n",
    "# https://github.com/jmit34/20200327\n",
    "\n"
   ]
  },
  {
   "cell_type": "markdown",
   "metadata": {},
   "source": [
    "<div class=\"alert alert-block alert-success\">\n",
    "\n",
    "# 1. Quantum Circuits\n",
    "</div>"
   ]
  },
  {
   "cell_type": "markdown",
   "metadata": {},
   "source": [
    "### 1.1 Create a circuit of 4 qubits q0, q1, q2, q3 which has the following effect : \n",
    "\n",
    "- swap $q1$ with $q_3$ if $q_0 == 0$ \n",
    "- swap $q2$ with $q_3$ if $q_0 == 1$\n",
    "- leave $q_0$ unchanged at the end\n",
    "\n",
    "\n",
    "- _you may use X, CNOT, CSWAP and CCNOT_\n"
   ]
  },
  {
   "cell_type": "markdown",
   "metadata": {},
   "source": [
    "### 1.2 Create a circuit of 4 qubits q0, q1, q2, q3 which has the following effect : \n",
    "\n",
    "- swap $q_2$ with $q_3$ if and only if $q_0 == 1$ and $ q_1 == 1$ \n",
    "- you may use an additionnal qubit $q_4$ (will start and end at value 0\n",
    "\n",
    "\n",
    "- _you may use X, CNOT, CSWAP and CCNOT_\n"
   ]
  },
  {
   "cell_type": "markdown",
   "metadata": {},
   "source": [
    "<div class=\"alert alert-block alert-success\">\n",
    "\n",
    "# 2. Pauli... and other matrices\n",
    "</div>"
   ]
  },
  {
   "cell_type": "markdown",
   "metadata": {},
   "source": [
    "### 2.1 Que vaut HXH ? \n",
    "\n",
    "- avec des produits de matrices\n",
    "- en utilisant les propriétés des matrices de Pauli et l'égalité: $\\sqrt{2}*H = X+Z$ \n"
   ]
  },
  {
   "cell_type": "markdown",
   "metadata": {},
   "source": [
    "### 2.2 On a single bit, what circuit (combination of H and Pauli operators) transfoms |0⟩ to -|0⟩ (and leaves |1⟩ at |1⟩)"
   ]
  },
  {
   "cell_type": "markdown",
   "metadata": {},
   "source": [
    "### 2.3 Il existe une porte $S$, définie par $S = \\sqrt{Z}$\n",
    "\n",
    "- calculez $S$\n",
    "\n",
    "- on note $T = \\sqrt{S}$, calculez $T$  "
   ]
  },
  {
   "cell_type": "markdown",
   "metadata": {},
   "source": [
    "#### Calculez $\\sqrt{X}$\n"
   ]
  },
  {
   "cell_type": "markdown",
   "metadata": {},
   "source": [
    "<div class=\"alert alert-block alert-success\">\n",
    "\n",
    "# 3. Matrices with Python\n",
    "</div>"
   ]
  },
  {
   "cell_type": "markdown",
   "metadata": {},
   "source": [
    "\n",
    "### 3.1. Produit de matrices\n"
   ]
  },
  {
   "cell_type": "markdown",
   "metadata": {},
   "source": [
    "Manipulations de vecteurs et matrices 2x2:\n",
    "\n",
    "\\begin{equation}\n",
    "A = \n",
    "\\left(\n",
    "\\begin{array}{cc}\n",
    " 2 & 3  \\\\\n",
    " 3 & 5  \\\\\n",
    "\\end{array}\n",
    "\\right)\n",
    "\\hspace{1cm}\n",
    "and\n",
    "\\hspace{1cm}\n",
    "B = \n",
    "\\left(\n",
    "\\begin{array}{cc}\n",
    " 1 & 2  \\\\\n",
    " 5 & -1  \\\\\n",
    "\\end{array}\n",
    "\\right)\n",
    "\\hspace{1cm}\n",
    "\\end{equation}\n",
    "\n",
    "results in : \n",
    "\n",
    "\\begin{equation}\n",
    "A B  = \n",
    "\\left(\n",
    "\\begin{array}{cc}\n",
    " 17 & 1  \\\\\n",
    " 28 & 1  \\\\\n",
    "\\end{array}\n",
    "\\right)\n",
    "\\end{equation}\n",
    "\n",
    "Faites le calcul et vérifier que la multiplication des matrices n'est pas communtative.\n"
   ]
  },
  {
   "cell_type": "code",
   "execution_count": null,
   "metadata": {},
   "outputs": [],
   "source": [
    "import numpy as np\n",
    "A = np.matrix( ((2,3), (3, 5)) )\n",
    "B = np.matrix( ((1,2), (5, -1)) )\n",
    "C = np.matmul(A,B)\n",
    "\n",
    "# vérifier que AB n'est pas égal à BA. \n",
    "\n",
    "\n",
    "# vous pouvez essayer les calculs suivants: \n",
    "print(np.add(A,B))\n",
    "print(2*A)\n",
    "print(np.trace(A))\n",
    "A_inv = np.linalg.inv(A)\n",
    "print(A_inv)\n",
    "print(np.matmul(A,A_inv))\n",
    "print(np.trace(A_inv))"
   ]
  },
  {
   "cell_type": "markdown",
   "metadata": {},
   "source": [
    "\n",
    "### 3.2. Matrices de Pauli\n"
   ]
  },
  {
   "cell_type": "markdown",
   "metadata": {},
   "source": [
    "Manipulations de vecteurs et matrices 2X2\n",
    "\n",
    "\\begin{equation}\n",
    "|0⟩ = \n",
    "\\left(\n",
    "\\begin{array}{cc}\n",
    " 1 \\\\\n",
    " 0 \\\\\n",
    "\\end{array}\n",
    "\\right)\n",
    "\\hspace{1cm}\n",
    "|1⟩ = \n",
    "\\left(\n",
    "\\begin{array}{cc}\n",
    " 0 \\\\\n",
    " 1 \\\\\n",
    "\\end{array}\n",
    "\\right)\n",
    "\\hspace{1cm}\n",
    "\\end{equation}\n",
    "\n",
    "Then I (Identity) and H (Hadamard) operators: \n",
    "\n",
    "\n",
    "\\begin{equation}\n",
    "I = \n",
    "\\left(\n",
    "\\begin{array}{cc}\n",
    " 1 & 0 \\\\\n",
    " 0 & 1 \\\\\n",
    "\\end{array}\n",
    "\\right)\n",
    "\\hspace{1cm}\n",
    "H = \\frac{1}{\\sqrt{2}}\n",
    "\\left(\n",
    "\\begin{array}{cc}\n",
    " 1 & 1  \\\\\n",
    " 1 & -1  \\\\\n",
    "\\end{array}\n",
    "\\right)\n",
    "\\hspace{1cm}\n",
    "\\end{equation}\n",
    "\n"
   ]
  },
  {
   "cell_type": "code",
   "execution_count": null,
   "metadata": {},
   "outputs": [],
   "source": [
    "ket0 = np.transpose(np.matrix((1,0)))\n",
    "ket1 = np.transpose(np.matrix((0,1)))\n",
    "print(\"|0⟩ = \")\n",
    "print(ket0)\n",
    "print(\"|1⟩ = \")\n",
    "print(ket1)"
   ]
  },
  {
   "cell_type": "code",
   "execution_count": null,
   "metadata": {},
   "outputs": [],
   "source": [
    "from math import sqrt\n",
    "I = np.matrix(((1,0),(0,1)))\n",
    "H = np.matrix(((1,1),(1,-1)))*(1/sqrt(2))\n",
    "print(I,\"\\n\")\n",
    "\n",
    "print(H)"
   ]
  },
  {
   "cell_type": "code",
   "execution_count": null,
   "metadata": {},
   "outputs": [],
   "source": [
    "# Hadamard \"superposition\"\n",
    "Hket0 = np.matmul(H,ket0)\n",
    "print(Hket0)\n",
    "Hket1 = np.matmul(H,ket1)\n",
    "print(Hket1)"
   ]
  },
  {
   "cell_type": "markdown",
   "metadata": {},
   "source": [
    "Comme ci dessus, pour la matrice Y  \n",
    "\n",
    "\\begin{equation}\n",
    "Y = \n",
    "\\left(\n",
    "\\begin{array}{cc}\n",
    " 0 & -i \\\\\n",
    " i & 0 \\\\\n",
    "\\end{array}\n",
    "\\right)\n",
    "\\hspace{1cm}\n",
    "\\end{equation}\n",
    "\n",
    "A vous de jouer: "
   ]
  },
  {
   "cell_type": "code",
   "execution_count": null,
   "metadata": {},
   "outputs": [],
   "source": []
  },
  {
   "cell_type": "markdown",
   "metadata": {},
   "source": [
    "### Try it.\n",
    "\n",
    "Matrices multiplying: \n",
    "\n",
    "\\begin{equation}\n",
    "X = \n",
    "\\left(\n",
    "\\begin{array}{cc}\n",
    " 0 & 1  \\\\\n",
    " 1 & 0  \\\\\n",
    "\\end{array}\n",
    "\\right)\n",
    "\\hspace{0.5cm}\n",
    "Y = \n",
    "\\left(\n",
    "\\begin{array}{cc}\n",
    " 0 & -i  \\\\\n",
    " i & \\phantom{-}0  \\\\\n",
    "\\end{array}\n",
    "\\right)\n",
    "\\hspace{0.5cm}\n",
    "Z = \n",
    "\\left(\n",
    "\\begin{array}{cc}\n",
    " 1 & \\phantom{-}0  \\\\\n",
    " 0 & -1  \\\\\n",
    "\\end{array}\n",
    "\\right)\n",
    "\\end{equation}\n",
    "\n",
    "\n",
    "Définir les matrices $\\ H, X, Y, Z, S, T $ et vérifier que : \n",
    "\n",
    "\\begin{equation}\n",
    "\\ XY = iZ,\n",
    "\\hspace{0.5cm}\n",
    "\\ ZX= iY,\n",
    "\\hspace{0.5cm}\n",
    "\\ YZ= iX \n",
    "\\end{equation}\n",
    "\n",
    "\\begin{equation}\n",
    "\\ XY = -YZ,\n",
    "\\hspace{0.5cm}\n",
    "\\ XZ = -ZX,\n",
    "\\hspace{0.5cm}\n",
    "\\ YZ= -ZY  \n",
    "\\end{equation}"
   ]
  },
  {
   "cell_type": "markdown",
   "metadata": {},
   "source": [
    "### Définir les matrices X Y Z avec numpy, vérifier les égalités ci-dessus"
   ]
  },
  {
   "cell_type": "code",
   "execution_count": null,
   "metadata": {},
   "outputs": [],
   "source": []
  },
  {
   "cell_type": "markdown",
   "metadata": {},
   "source": [
    "### Calculer la formule vue au 2.2 (XHXHX), vérifier que ça vaut -Z"
   ]
  },
  {
   "cell_type": "code",
   "execution_count": null,
   "metadata": {},
   "outputs": [],
   "source": [
    "\n",
    "              "
   ]
  },
  {
   "cell_type": "markdown",
   "metadata": {},
   "source": [
    "<div class=\"alert alert-block alert-success\">\n",
    "\n",
    "# 4. Circuit H et Cx (Bell) avec les matrices \n",
    "</div>"
   ]
  },
  {
   "cell_type": "markdown",
   "metadata": {},
   "source": [
    "### Avec les matrices $H$ et $CNOT$ calculez le résultat du circuit H,Cx pour les 4 vecteurs de base. "
   ]
  },
  {
   "cell_type": "code",
   "execution_count": null,
   "metadata": {},
   "outputs": [],
   "source": [
    "import numpy as np\n",
    "from math import sqrt\n",
    "#H = (1/sqrt(2))* np.matrix( ((1,0,1,0),(0,1,0,1),(1,0,-1,0),(0,1,0,-1) ) )\n",
    "H = np.matrix( ((1,0,1,0),(0,1,0,1),(1,0,-1,0),(0,1,0,-1) ) )\n",
    "\n",
    "Cx = np.matrix( ((1,0,0,0),(0,1,0,0),(0,0,0,1),(0,0,1,0) ) )\n",
    "\n"
   ]
  },
  {
   "cell_type": "markdown",
   "metadata": {},
   "source": [
    "<div class=\"alert alert-block alert-success\">\n",
    "\n",
    "# 4. Calculer (Toffoli)$^2$ et (Fredkin)$^2$\n",
    "</div>"
   ]
  },
  {
   "cell_type": "code",
   "execution_count": null,
   "metadata": {},
   "outputs": [],
   "source": [
    "import numpy as np\n"
   ]
  },
  {
   "cell_type": "code",
   "execution_count": null,
   "metadata": {},
   "outputs": [],
   "source": [
    "import numpy as np\n"
   ]
  },
  {
   "cell_type": "markdown",
   "metadata": {},
   "source": [
    "<div class=\"alert alert-block alert-danger\">\n",
    "\n",
    "# Merci pour votre attention et $⟨vo|$ si vous êtes arrivé.e jusque là \n",
    "</div>"
   ]
  }
 ],
 "metadata": {
  "kernelspec": {
   "display_name": "Python 3",
   "language": "python",
   "name": "python3"
  },
  "language_info": {
   "codemirror_mode": {
    "name": "ipython",
    "version": 3
   },
   "file_extension": ".py",
   "mimetype": "text/x-python",
   "name": "python",
   "nbconvert_exporter": "python",
   "pygments_lexer": "ipython3",
   "version": "3.7.3"
  }
 },
 "nbformat": 4,
 "nbformat_minor": 2
}
