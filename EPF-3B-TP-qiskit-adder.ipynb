{
 "cells": [
  {
   "cell_type": "markdown",
   "metadata": {},
   "source": [
    "<table>\n",
    "   <tr>\n",
    "     <td><img src=\"./images/epf-header.png\" alt=\"Note: In order for images to show up in this jupyter notebook you need to select File => Trusted Notebook\" width=\"500 px\" align=\"left\"></td>\n",
    "      </tr>\n",
    "</table>\n",
    "\n",
    "## <center>TP QISKit</center>\n",
    "## <center>Full adder</center>\n",
    "\n",
    "### <span style=\"color:blue\"><em>Jean-Michel Torres, IBM Q Hub France, torresjm@fr.ibm.com</em></span>\n",
    "\n",
    "***Star***, download, ou utiliser depuis `mybinder` : \n",
    "\n",
    "# https://github.com/jmit34/20200327\n",
    "\n"
   ]
  },
  {
   "cell_type": "markdown",
   "metadata": {},
   "source": [
    "\n",
    "Ceci est un additionneur sur 2 bits :\n",
    "\n",
    "<img src=\"./images/adder.png\" alt=\"Note: In order for images to show up in this jupyter notebook you need to select File => Trusted Notebook\" width=\"600px\" align=\"center\">"
   ]
  },
  {
   "cell_type": "code",
   "execution_count": 49,
   "metadata": {},
   "outputs": [],
   "source": [
    "%matplotlib inline\n",
    "from math import floor\n",
    "from qiskit import QuantumRegister, ClassicalRegister, QuantumCircuit, execute\n",
    "from qiskit import Aer\n",
    "#print(Aer.backends())\n",
    "backend = Aer.get_backend('qasm_simulator')"
   ]
  },
  {
   "cell_type": "code",
   "execution_count": 53,
   "metadata": {},
   "outputs": [
    {
     "data": {
      "image/png": "[encoded data removed]",
      "text/plain": [
       "<Figure size 457.52x264.88 with 1 Axes>"
      ]
     },
     "execution_count": 53,
     "metadata": {},
     "output_type": "execute_result"
    }
   ],
   "source": [
    "# fabriquons la fonction adder, sur 4 qubits, selon le schéma ci-dessus: \n",
    "# sans faire les mesures, et on va définir cette fonction \n",
    "# comme une sous routine, de manière à l'utiliser pour tester les \n",
    "# différentes valeurs d'entrée\n",
    "# on l'appelle adder: \n",
    "\n",
    "adder = QuantumCircuit(4)\n",
    "\n",
    "# ici : construisez vous-même votre additionneur quantique \n",
    "# 2 qubit avec retenue \n",
    "\n",
    "\n",
    "# on le convertit en gate et on le dessine:\n",
    "\n",
    "\n",
    "adder.draw(output='mpl')"
   ]
  },
  {
   "cell_type": "code",
   "execution_count": 54,
   "metadata": {},
   "outputs": [
    {
     "data": {
      "image/png": "[encoded data removed]",
      "text/plain": [
       "<Figure size 418.992x264.88 with 1 Axes>"
      ]
     },
     "execution_count": 54,
     "metadata": {},
     "output_type": "execute_result"
    }
   ],
   "source": [
    "# fabriquons la fonction adder, sur 4 qubits, selon le schéma ci-dessus: \n",
    "# sans faire les mesures, et on va définir cette fonction \n",
    "# comme une sous routine, de manière à l'utiliser pour tester les \n",
    "\n",
    "\n",
    "adder.to_instruction()\n",
    "\n",
    "\n",
    "qr = QuantumRegister(4)\n",
    "visu = QuantumCircuit(qr)\n",
    "visu.append(adder,qr)\n",
    "\n",
    "visu.draw(output='mpl')"
   ]
  },
  {
   "cell_type": "code",
   "execution_count": 55,
   "metadata": {},
   "outputs": [
    {
     "name": "stdout",
     "output_type": "stream",
     "text": [
      "            A   B  Carry Retenue Somme\n",
      "           --- --- ----- ------- -----\n",
      "données :   0   0    0\n",
      "résultats:  0   0           0      0\n",
      "           --- --- ----- ------- -----\n",
      "données :   0   1    0\n",
      "résultats:  0   1           0      1\n",
      "           --- --- ----- ------- -----\n",
      "données :   1   0    0\n",
      "résultats:  1   0           0      1\n",
      "           --- --- ----- ------- -----\n",
      "données :   1   1    0\n",
      "résultats:  1   1           1      0\n",
      "           --- --- ----- ------- -----\n",
      "données :   0   0    1\n",
      "résultats:  0   0           0      1\n",
      "           --- --- ----- ------- -----\n",
      "données :   0   1    1\n",
      "résultats:  0   1           1      0\n",
      "           --- --- ----- ------- -----\n",
      "données :   1   0    1\n",
      "résultats:  1   0           1      0\n",
      "           --- --- ----- ------- -----\n",
      "données :   1   1    1\n",
      "résultats:  1   1           1      1\n",
      "           --- --- ----- ------- -----\n"
     ]
    }
   ],
   "source": [
    "# now let's use the adder in a circuit, and try all possible entries\n",
    "cr = ClassicalRegister(4)\n",
    "\n",
    "print(\"            A   B  Carry Retenue Somme\")\n",
    "print(\"           --- --- ----- ------- -----\")\n",
    "\n",
    "for i in range(8):\n",
    "    circ = QuantumCircuit(qr,cr)\n",
    "    if floor((i/2)%2):\n",
    "        circ.x(qr[0])\n",
    "    if i%2:\n",
    "        circ.x(qr[1])\n",
    "    if i>3:\n",
    "        circ.x(qr[2])\n",
    "        \n",
    "        \n",
    "    circ.append(adder,[qr[0],qr[1],qr[2],qr[3]])\n",
    "    circ.measure(qr,cr)\n",
    "    \n",
    "    print(f\"données :   {(floor(i/2))%2}   {(i%2)*1}    {(i>3)*1}\")\n",
    "    job = execute(circ,backend, shots=1024)\n",
    "    result = job.result()\n",
    "    for x in (result.get_counts(circ)):\n",
    "        print(f\"résultats:  {x[3]}   {x[2]}           {x[0]}      {x[1]}\")\n",
    "    print(\"           --- --- ----- ------- -----\")"
   ]
  },
  {
   "cell_type": "markdown",
   "metadata": {},
   "source": [
    "### Tourner sur machine, avec par exemple : a=0, b=1, carry=1"
   ]
  }
 ],
 "metadata": {
  "kernelspec": {
   "display_name": "Python 3",
   "language": "python",
   "name": "python3"
  },
  "language_info": {
   "codemirror_mode": {
    "name": "ipython",
    "version": 3
   },
   "file_extension": ".py",
   "mimetype": "text/x-python",
   "name": "python",
   "nbconvert_exporter": "python",
   "pygments_lexer": "ipython3",
   "version": "3.7.3"
  }
 },
 "nbformat": 4,
 "nbformat_minor": 2
}
