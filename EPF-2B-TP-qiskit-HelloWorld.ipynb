{
 "cells": [
  {
   "cell_type": "markdown",
   "metadata": {},
   "source": [
    "<table>\n",
    "   <tr>\n",
    "     <td><img src=\"./images/epf-header.png\" alt=\"Note: In order for images to show up in this jupyter notebook you need to select File => Trusted Notebook\" width=\"500 px\" align=\"left\"></td>\n",
    "      </tr>\n",
    "</table>\n",
    "\n",
    "## <center>TP QISKit</center>\n",
    "## <center>Structure d'un circuit quantique / Exemples simples / Exécution sur machine réelle</center>\n",
    "\n",
    "### <span style=\"color:blue\"><em>Jean-Michel Torres, IBM Q Hub France, torresjm@fr.ibm.com</em></span>\n",
    "\n",
    "***Star***, download, ou utiliser depuis `mybinder` : \n",
    "\n",
    "# https://github.com/jmit34/20200327\n",
    "\n",
    "### Agenda :\n",
    "<ol>\n",
    "    <li>Programmation quantique avec Python et qiskit: \"b et a ba\"</li>\n",
    "    <li>Quelques \"portes\" quantiques, et exemples de \"calcul\"</li>\n",
    "    <li>Comment executer un programme sur un ordinateur quantique</li>\n",
    "</ol>\n"
   ]
  },
  {
   "cell_type": "markdown",
   "metadata": {},
   "source": [
    "<div class=\"alert alert-block alert-success\">\n",
    "    \n",
    "# 1. \"Hello World\" quantum computing with Python and  qiskit.\n",
    "</div>"
   ]
  },
  {
   "cell_type": "markdown",
   "metadata": {},
   "source": [
    "### Let's import what we need from qiskit library\n",
    "\n",
    "<ul>\n",
    "    <li>QuantumRegister : define and use qubits register </li>\n",
    "    <li>ClassicalRegister : to perform measurement into </li>\n",
    "    <li>QuantumCircuit : to build out circuit</li>\n",
    "    <li>execute : method for circuit execution</li>\n",
    "    <li>A backend to execute on, here we are using the local simulator provided within the \"Aer\" qiskit component </li> \n",
    "    <li>and tool for results display</li> \n",
    "</ul>"
   ]
  },
  {
   "cell_type": "code",
   "execution_count": null,
   "metadata": {
    "slideshow": {
     "slide_type": "-"
    }
   },
   "outputs": [],
   "source": [
    "%matplotlib inline\n",
    "from qiskit import QuantumRegister, ClassicalRegister, QuantumCircuit, execute, Aer\n",
    "from qiskit.tools.visualization import plot_histogram\n",
    "backend = Aer.get_backend('qasm_simulator')"
   ]
  },
  {
   "cell_type": "markdown",
   "metadata": {},
   "source": [
    "### make instance of the required objects, including the quantum circuit, and let's add quantum gates to it: \n",
    "\n",
    "example  : `circ.x(qr[0])` for X gate, `circ.h(qr[0])` for H gate, and  `circ.measure(qr,cr)` for measurement. "
   ]
  },
  {
   "cell_type": "code",
   "execution_count": null,
   "metadata": {},
   "outputs": [],
   "source": [
    "# small single qubit circuit\n",
    "# needed registers \n",
    "qr = QuantumRegister(1)\n",
    "cr = ClassicalRegister(1)\n",
    "\n",
    "circ = QuantumCircuit(qr,cr)\n",
    "\n",
    "\n",
    "# let's try H X H :\n",
    "\n",
    "\n",
    "# measurement gate:\n",
    "circ.measure(qr,cr)\n",
    "\n",
    "# have a look to check: \n",
    "circ.draw(output='mpl')"
   ]
  },
  {
   "cell_type": "code",
   "execution_count": null,
   "metadata": {
    "scrolled": true
   },
   "outputs": [],
   "source": [
    "# execution and result \n",
    "job = execute(circ,backend,shots=1024)\n",
    "\n",
    "resultat = job.result()\n",
    "\n",
    "d = resultat.get_counts(circ)\n",
    "d"
   ]
  },
  {
   "cell_type": "code",
   "execution_count": null,
   "metadata": {
    "scrolled": true
   },
   "outputs": [],
   "source": [
    "plot_histogram(resultat.get_counts(circ))"
   ]
  },
  {
   "cell_type": "markdown",
   "metadata": {
    "scrolled": false
   },
   "source": [
    "<div class=\"alert alert-block alert-info\">\n",
    "<b>Note:</b> \n",
    "\n",
    "H X H result is not necessarily obvious, unless you go with the matrixes. \n",
    "\n",
    "These are Pauli and Hadamard operators : \n",
    "\n",
    "\\begin{equation}\n",
    "I = \n",
    "\\left(\n",
    "\\begin{array}{cc}\n",
    " 1 & 0  \\\\\n",
    " 0 & 1  \\\\\n",
    "\\end{array}\n",
    "\\right)\n",
    "\\hspace{0.5cm}\n",
    "X = \n",
    "\\left(\n",
    "\\begin{array}{cc}\n",
    " 0 & 1  \\\\\n",
    " 1 & 0  \\\\\n",
    "\\end{array}\n",
    "\\right)\n",
    "\\hspace{0.5cm}\n",
    "Y = \n",
    "\\left(\n",
    "\\begin{array}{cc}\n",
    " 0 & -i  \\\\\n",
    " i & 0  \\\\\n",
    "\\end{array}\n",
    "\\right)\n",
    "\\hspace{0.5cm}\n",
    "Z = \n",
    "\\left(\n",
    "\\begin{array}{cc}\n",
    " 1 & 0  \\\\\n",
    " 0 & -1  \\\\\n",
    "\\end{array}\n",
    "\\right)\n",
    "\\hspace{0.5cm}\n",
    "H = \\frac{1}{\\sqrt{2}}\n",
    "\\left(\n",
    "\\begin{array}{cc}\n",
    " 1 & 1  \\\\\n",
    " 1 & -1  \\\\\n",
    "\\end{array}\n",
    "\\right)\n",
    "\\hspace{0.5cm}\n",
    "\\end{equation}\n",
    "\n",
    "So we can compute $HXH$: \n",
    "\n",
    "\\begin{equation}\n",
    "H\\times X\\times H = \n",
    "\\frac{1}{\\sqrt{2}}\n",
    "\\left(\n",
    "\\begin{array}{cc}\n",
    " 1 & 1  \\\\\n",
    " 1 & -1  \\\\\n",
    "\\end{array}\n",
    "\\right) \\times\n",
    "\\left(\n",
    "\\begin{array}{cc}\n",
    " 0 & 1  \\\\\n",
    " 1 & 0  \\\\\n",
    "\\end{array}\n",
    "\\right) \\times\n",
    "\\frac{1}{\\sqrt{2}}\n",
    "\\left(\n",
    "\\begin{array}{cc}\n",
    " 1 & 1  \\\\\n",
    " 1 & -1  \\\\\n",
    "\\end{array}\n",
    "\\right) = \n",
    "\\left(\n",
    "\\begin{array}{cc}\n",
    " 1 & 0  \\\\\n",
    " 0 & -1  \\\\\n",
    "\\end{array}\n",
    "\\right) = Z\n",
    "\\end{equation}\n",
    "\n",
    "Also, don't confuse with $XHX$:\n",
    "\n",
    "\\begin{equation}\n",
    "X\\times H\\times X = \n",
    "\\left(\n",
    "\\begin{array}{cc}\n",
    " 0 & 1  \\\\\n",
    " 1 & 0  \\\\\n",
    "\\end{array}\n",
    "\\right) \\times\n",
    "\\frac{1}{\\sqrt{2}}\n",
    "\\left(\n",
    "\\begin{array}{cc}\n",
    " 1 & 1  \\\\\n",
    " 1 & -1  \\\\\n",
    "\\end{array}\n",
    "\\right) \\times\n",
    "\\left(\n",
    "\\begin{array}{cc}\n",
    " 0 & 1  \\\\\n",
    " 1 & 0  \\\\\n",
    "\\end{array}\n",
    "\\right) = \n",
    "\\frac{1}{\\sqrt{2}}\n",
    "\\left(\n",
    "\\begin{array}{cc}\n",
    " -1 & 1  \\\\\n",
    "  1 & 1  \\\\\n",
    "\\end{array}\n",
    "\\right)\n",
    "\\end{equation}\n",
    "\n",
    "Which produces superposition states (similar to H) :\n",
    "\n",
    "\\begin{equation}\n",
    "\\frac{1}{\\sqrt{2}}\n",
    "\\left(\n",
    "\\begin{array}{cc}\n",
    " -1 & 1  \\\\\n",
    " 1 & 1  \\\\\n",
    "\\end{array}\n",
    "\\right) \\times |0> =\n",
    "\\frac{1}{\\sqrt{2}}\n",
    "\\left(\n",
    "\\begin{array}{cc}\n",
    " -1 & 1  \\\\\n",
    " 1 &  1  \\\\\n",
    "\\end{array}\n",
    "\\right) \\times\n",
    "\\left(\n",
    "\\begin{array}{cc}\n",
    "  1  \\\\\n",
    "  0  \\\\\n",
    "\\end{array}\n",
    "\\right) = \n",
    "\\frac{1}{\\sqrt{2}}\n",
    "\\left(\n",
    "\\begin{array}{cc}\n",
    " -1  \\\\\n",
    "  1  \\\\\n",
    "\\end{array}\n",
    "\\right)\n",
    "\\end{equation}\n",
    "\n",
    "\n",
    "\\begin{equation}\n",
    "\\frac{1}{\\sqrt{2}}\n",
    "\\left(\n",
    "\\begin{array}{cc}\n",
    " -1 & 1 \\\\\n",
    " 1 & 1  \\\\\n",
    "\\end{array}\n",
    "\\right) \\times |1> =\n",
    "\\frac{1}{\\sqrt{2}}\n",
    "\\left(\n",
    "\\begin{array}{cc}\n",
    " -1 & 1  \\\\\n",
    " 1 &  1  \\\\\n",
    "\\end{array}\n",
    "\\right) \\times\n",
    "\\left(\n",
    "\\begin{array}{cc}\n",
    "  0 \\\\\n",
    "  1 \\\\\n",
    "\\end{array}\n",
    "\\right) = \n",
    "\\frac{1}{\\sqrt{2}}\n",
    "\\left(\n",
    "\\begin{array}{cc}\n",
    " 1  \\\\\n",
    " 1  \\\\\n",
    "\\end{array}\n",
    "\\right)\n",
    "\\end{equation}"
   ]
  },
  {
   "cell_type": "markdown",
   "metadata": {},
   "source": [
    "<div class=\"alert alert-block alert-success\">\n",
    "    \n",
    "# 2. More quantum gates :\n",
    "</div>"
   ]
  },
  {
   "cell_type": "code",
   "execution_count": null,
   "metadata": {},
   "outputs": [],
   "source": [
    "%matplotlib inline\n",
    "from qiskit import QuantumRegister, ClassicalRegister, QuantumCircuit, execute, Aer\n",
    "from qiskit.tools.visualization import plot_histogram\n",
    "backend = Aer.get_backend('qasm_simulator')"
   ]
  },
  {
   "cell_type": "markdown",
   "metadata": {},
   "source": [
    "<div class=\"alert alert-block alert-success\">\n",
    "\n",
    "## 2.1 CNOT :  Controlled Not \n",
    "</div>\n",
    "\n",
    "### changes target qubit states depending on controlling qubit state \n",
    "\n",
    "<img src=\"./images/CNOT.png\" alt=\"Note: In order for images to show up in this jupyter notebook you need to select File => Trusted Notebook\" width=\"250 px\" align=\"center\">\n",
    "\n",
    "\n",
    "### Let's build the famous  H , CNOT circuit to get the Bell state. \n"
   ]
  },
  {
   "cell_type": "code",
   "execution_count": null,
   "metadata": {},
   "outputs": [],
   "source": [
    "# now we need a circuit using 2 qubits.\n",
    "qr = QuantumRegister(2,name='truc')\n",
    "cr = ClassicalRegister(1)\n",
    "\n",
    "circ = QuantumCircuit(qr,cr)\n",
    "\n",
    "# build and draw the circuit: \n",
    "circ.h(qr[0])\n",
    "circ.cx(qr[0],qr[1])\n",
    "\n",
    "circ.measure(qr[1],cr[0])\n",
    "\n",
    "# have a look to check: \n",
    "circ.draw(output='mpl')"
   ]
  },
  {
   "cell_type": "code",
   "execution_count": null,
   "metadata": {},
   "outputs": [],
   "source": [
    "# execution:\n",
    "resultat = execute(circ,backend, shots=2000).result()\n",
    "resultat.get_counts(circ)"
   ]
  },
  {
   "cell_type": "code",
   "execution_count": null,
   "metadata": {
    "scrolled": false
   },
   "outputs": [],
   "source": [
    "plot_histogram(resultat.get_counts(circ))"
   ]
  },
  {
   "cell_type": "code",
   "execution_count": null,
   "metadata": {},
   "outputs": [],
   "source": []
  },
  {
   "cell_type": "markdown",
   "metadata": {},
   "source": [
    "<div class=\"alert alert-block alert-info\">\n",
    "\n",
    "**Que s'est-il passé ?**\n",
    "\n",
    "Au début, on a cet état :  \n",
    "\n",
    "\\begin{equation} \n",
    "|\\Psi_0⟩ = |00⟩ \\hspace{0.5cm} ( ou \\hspace{0.5cm} |\\Psi_0⟩ = 1|00⟩ + 0|10⟩ + 0|01⟩ + 0|11⟩ \\hspace{0.5cm} )\n",
    "\\end{equation} \n",
    "\n",
    "on applique $H$ sur le quibit 0: \n",
    "\n",
    "\\begin{equation} \n",
    "|\\Psi_1⟩ = \\frac{1}{\\sqrt{2}}\\left(|00⟩ + |10⟩ \\right) \n",
    "\\end{equation}\n",
    "\n",
    "A ce stade, la mesure d'un qubit n'indique rien de l'état du second (on sait que le qubit 1 vaut , et que le qubit 0 est en superposition). Appliquons la CNOT, l'état devient :  \n",
    "\n",
    "\\begin{equation} \n",
    "|\\Psi_2⟩ = \\frac{1}{\\sqrt{2}}\\left(|00⟩ + |11⟩ \\right) \n",
    "\\end{equation}\n",
    "\n",
    "A présent, si l'on mesure l'un des deux qubit, on connait l'état de l'autre.\n",
    "\n",
    "\n",
    "**Qu'est-ce que cela veut-il dire ?** \n",
    "\n",
    "Supposons que l'on puisse factoriser cet état (trouver deux état de qubit seul dont le produit soit l'état de Bell): \n",
    "\n",
    "\\begin{equation} \n",
    "|\\phi⟩ = a|0⟩ + (b+ic)|1⟩  \\hspace{0.5cm} et \\hspace{0.5cm} |\\psi⟩ = d|0⟩ + (e+if)|1⟩  \n",
    "\\end{equation}\n",
    "\n",
    "Alors:\n",
    "\\begin{equation} \n",
    "|\\phi⟩|\\psi⟩ = (ad|00⟩ + (ae + iaf)|01⟩ + (db+idc)|10⟩ + (b+ic)(e+if)|11⟩)  \n",
    "\\end{equation}\n",
    "\n",
    "En identifiant cette expression avec celle de $|\\Psi_2>$ sur les vecteur de base (|00⟩, |01⟩, |10⟩, |11⟩) on a:  \n",
    "\n",
    "\\begin{equation}\n",
    "ad = \\frac{1}{\\sqrt{2}} \\hspace{0.5cm} ; \\hspace{0.5cm} ae + iaf = 0 \\hspace{0.5cm} ; \\hspace{0.5cm} db + idc = 0 \\hspace{0.5cm} ; \\hspace{0.5cm} be - cf + i(bf+ce) = \\frac{1}{\\sqrt{2}}\n",
    "\\end{equation}\n",
    "\n",
    "\n",
    "Comme $ad$ est non nul, alors ni $a$ ni $d$ ne sont nuls. Ensuite un nobre complexe est nul ssi  sa partie réelle et sa partie imaginaire sont toutes les deux nulles. Comme a et d sont snon nuls, on en déduit que $e = f = b = c = 0$ , alors : $be - cf = 0$ , ce qui contredit $be - cf = \\frac{1}{\\sqrt{2}}$\n",
    "\n",
    "\n",
    "#### Nous venons de montrer que cet état des deux qubits ne correspond pas au produit de deux états de deux qubits... \n",
    "\n",
    "#### ... c'est à dire que l'on ne peut rien connaître de l'état d'un des deux qubits indépendamment de l'état de l'autre : on ne peut que considérer l'ensemble des deux qubits.\n",
    "</div>"
   ]
  },
  {
   "cell_type": "markdown",
   "metadata": {},
   "source": [
    "<div class=\"alert alert-block alert-success\">\n",
    "\n",
    "## 2.2 CONTROL-SWAP : Fredkin gate\n",
    "</div>\n",
    "\n",
    "### Si le qubit de contôle est à 1, alors on swappe les état des qubits cibles \n",
    "<img src=\"./images/Fredkin.png\" alt=\"Note: In order for images to show up in this jupyter notebook you need to select File => Trusted Notebook\" width=\"250px\" align=\"center\">\n"
   ]
  },
  {
   "cell_type": "code",
   "execution_count": null,
   "metadata": {
    "scrolled": true
   },
   "outputs": [],
   "source": [
    "# ici, on a besoin de 3 qubits \n",
    "qr = QuantumRegister(3)\n",
    "cr = ClassicalRegister(3)\n",
    "\n",
    "qc = QuantumCircuit(qr,cr)\n",
    "# changer les valeurs des qubits en entrée en mettant des x\n",
    "# pour voir l'effet deFredkin\n",
    "qc.h(qr[0])\n",
    "qc.x(qr[1])\n",
    "\n",
    "qc.cswap(qr[0],qr[1],qr[2])\n",
    "\n",
    "#add Fredkin cswap <circ>.cswap(q0,q1,q2)\n",
    "qc.measure(qr,cr)\n",
    "qc.draw()\n"
   ]
  },
  {
   "cell_type": "code",
   "execution_count": null,
   "metadata": {
    "scrolled": true
   },
   "outputs": [],
   "source": [
    "# execute, get results, plot...\n",
    "resultat = execute(qc,backend, shots=2000).result()\n",
    "resultat.get_counts(qc)\n"
   ]
  },
  {
   "cell_type": "code",
   "execution_count": null,
   "metadata": {},
   "outputs": [],
   "source": [
    "plot_histogram(resultat.get_counts(qc))"
   ]
  },
  {
   "cell_type": "markdown",
   "metadata": {},
   "source": [
    "<div class=\"alert alert-block alert-success\">\n",
    "\n",
    "## 2.3 CONTROL-CONTROL-NOT : Toffoli gate\n",
    "</div>\n",
    "\n",
    "### if a = 1 and b = 1, then flip c\n",
    "<img src=\"./images/Toffoli.png\" alt=\"Note: In order for images to show up in this jupyter notebook you need to select File => Trusted Notebook\" width=\"250 px\" align=\"center\">\n",
    "\n",
    "\n",
    "<div class=\"alert alert-block alert-info\">\n",
    "    \n",
    "### Notes:\n",
    "#### - Toffoli est universelle (Fredkin aussi d'ailleurs)\n",
    "#### -  Les portes quantiques sont réversibles.\n",
    "</div>"
   ]
  },
  {
   "cell_type": "code",
   "execution_count": null,
   "metadata": {
    "scrolled": true
   },
   "outputs": [],
   "source": [
    "# on a besoin de 3 qubits\n",
    "\n",
    "# define quantum circuit\n",
    "\n",
    "\n",
    "# changer l'état des qubits d'entrée pour voir l'effet de Toffoli. \n",
    "\n",
    "\n",
    "# la syntaxe : circ.ccx(controle, controle, cible)\n",
    "\n",
    "\n",
    "\n"
   ]
  },
  {
   "cell_type": "code",
   "execution_count": null,
   "metadata": {
    "scrolled": true
   },
   "outputs": [],
   "source": [
    "# execute, get results, plot\n"
   ]
  },
  {
   "cell_type": "code",
   "execution_count": null,
   "metadata": {},
   "outputs": [],
   "source": []
  },
  {
   "cell_type": "markdown",
   "metadata": {},
   "source": [
    "<div class=\"alert alert-block alert-success\">\n",
    "    \n",
    "# 2.4 Voyage autour de la sphère de Bloch !\n",
    "</div>\n",
    "\n",
    "\n",
    "La porte U : permet de placer le qubit dans une position arbitraire: \n",
    "\n",
    "<img src=\"./images/blochSphere.png\" alt=\"Note: In order for images to show up in this jupyter notebook you need to select File => Trusted Notebook\" width=\"200 px\" align=\"right\">\n",
    "\n",
    "\\begin{equation} \n",
    "U(\\theta,\\phi,\\lambda) = \n",
    "\\left(\n",
    "\\begin{array}{cc}\n",
    "\\cos{\\frac{\\theta}{2}} & -e^{i\\lambda}\\sin{\\frac{\\theta}{2}}  \\\\\n",
    "e^{i\\phi}\\sin{\\frac{\\theta}{2}} &  e^{i\\lambda+i\\phi}\\cos{\\frac{\\theta}{2}} \\\\\n",
    "\\end{array}\n",
    "\\right)\n",
    "\\end{equation}\n",
    "\n",
    "\n",
    "faisons un essai: "
   ]
  },
  {
   "cell_type": "code",
   "execution_count": null,
   "metadata": {},
   "outputs": [],
   "source": [
    "%matplotlib inline\n",
    "from qiskit import QuantumRegister, ClassicalRegister, QuantumCircuit, execute\n",
    "from math import pi,cos,sin,sqrt\n",
    "from qiskit.tools.visualization import plot_histogram\n",
    "from qiskit import Aer\n",
    "backend = Aer.get_backend('qasm_simulator')\n",
    "\n",
    "circ = QuantumCircuit(1,1)\n",
    "\n",
    "theta = pi/5\n",
    "\n",
    "circ.u3(theta,0,0,[0])\n",
    "circ.measure([0],[0])\n",
    "circ.draw(output='mpl')"
   ]
  },
  {
   "cell_type": "code",
   "execution_count": null,
   "metadata": {},
   "outputs": [],
   "source": [
    "result = execute(circ,backend, shots=8192).result()\n",
    "plot_histogram(result.get_counts(circ))"
   ]
  },
  {
   "cell_type": "code",
   "execution_count": null,
   "metadata": {},
   "outputs": [],
   "source": [
    "print(f\"le carré du cosinus de 𝛉 vaut {cos(theta/2)**2:.3f}\")"
   ]
  },
  {
   "cell_type": "markdown",
   "metadata": {},
   "source": [
    "## La même chose, vue d'un autre angle :-)"
   ]
  },
  {
   "cell_type": "code",
   "execution_count": null,
   "metadata": {},
   "outputs": [],
   "source": [
    "%matplotlib inline\n",
    "from qiskit import QuantumRegister, ClassicalRegister, QuantumCircuit, execute\n",
    "from math import pi,cos,sin,sqrt\n",
    "from qiskit.tools.visualization import plot_histogram\n",
    "from qiskit import Aer\n",
    "backend = Aer.get_backend('statevector_simulator')\n",
    "\n",
    "circ = QuantumCircuit(1)\n",
    "𝛉 = pi/5\n",
    "𝛟 = pi/4\n",
    "𝛌 = 0\n",
    "\n",
    "circ.u3(𝛉,𝛟,𝛌,[0])\n",
    "circ.draw(output='mpl')"
   ]
  },
  {
   "cell_type": "code",
   "execution_count": null,
   "metadata": {},
   "outputs": [],
   "source": [
    "%matplotlib notebook\n",
    "resultat = execute(circ, backend).result()\n",
    "quantum_state = resultat.get_statevector(circ, decimals=3)\n",
    "# outil de représentation graphique sur la sphère de Bloch\n",
    "from qiskit.tools.visualization import plot_bloch_multivector\n",
    "plot_bloch_multivector(quantum_state)"
   ]
  },
  {
   "cell_type": "markdown",
   "metadata": {},
   "source": [
    "<div class=\"alert alert-block alert-success\">\n",
    "\n",
    "# 3. Comment tourner nos algorithmes sur de vraies machines\n",
    "</div>"
   ]
  },
  {
   "cell_type": "markdown",
   "metadata": {},
   "source": [
    "\n",
    "Go to IBM Q Experience website : [here](https://quantum-computing.ibm.com).\n",
    "\n",
    "Register with your choice of access method (IBMid, . If you agree accept the conditions for using IBM Q Experience.\n",
    "\n",
    "![IBM Q Experience homepage](./images/IBMQX.png)*IBM Q Experience home page*\n",
    "\n",
    "On the upper right corner go to \"My Account\":\n",
    "\n",
    "![API Key](./images/API_Token.png)*Copy your API Key from here*\n"
   ]
  },
  {
   "cell_type": "code",
   "execution_count": null,
   "metadata": {},
   "outputs": [],
   "source": [
    "# préparation\n",
    "%matplotlib inline\n",
    "from qiskit import QuantumRegister, QuantumCircuit, ClassicalRegister, execute"
   ]
  },
  {
   "cell_type": "code",
   "execution_count": null,
   "metadata": {},
   "outputs": [],
   "source": [
    "# reprenons notre circuit H.CX (état de Bell superposition et intrication)\n",
    "circ = QuantumCircuit(2,2)\n",
    "\n",
    "circ.h([0])\n",
    "circ.cx([0],[1])\n",
    "\n",
    "circ.measure([0,1],[0,1])\n",
    "circ.draw(output='mpl')"
   ]
  },
  {
   "cell_type": "code",
   "execution_count": null,
   "metadata": {},
   "outputs": [],
   "source": [
    "# le module IBMQ sert à manager localement votre compte sur IBM Q Experience. \n",
    "from qiskit import IBMQ"
   ]
  },
  {
   "cell_type": "code",
   "execution_count": null,
   "metadata": {},
   "outputs": [],
   "source": [
    "IBMQ.stored_account()"
   ]
  },
  {
   "cell_type": "markdown",
   "metadata": {},
   "source": [
    "<div class=\"alert alert-block alert-warning\">\n",
    "La première fois IBMQ.stored.account() ne fonctionne pas, il faut faire ceci (une fois pour toutes) : "
   ]
  },
  {
   "cell_type": "code",
   "execution_count": null,
   "metadata": {},
   "outputs": [],
   "source": [
    "#MY_API_TOKEN= '* * * coller votre API token ici * * *'\n",
    "#IBMQ.save_account(MY_API_TOKEN, overwrite=True)"
   ]
  },
  {
   "cell_type": "code",
   "execution_count": null,
   "metadata": {},
   "outputs": [],
   "source": [
    "# Si vous aviez déjà un compte activé sur IBM Q Expérience, avant le niveau 0.11 de qiskit, il faut faire ceci: \n",
    "#IBMQ.update_account()"
   ]
  },
  {
   "cell_type": "code",
   "execution_count": null,
   "metadata": {},
   "outputs": [],
   "source": [
    "IBMQ.load_account()"
   ]
  },
  {
   "cell_type": "code",
   "execution_count": null,
   "metadata": {},
   "outputs": [],
   "source": [
    "IBMQ.providers()"
   ]
  },
  {
   "cell_type": "code",
   "execution_count": null,
   "metadata": {},
   "outputs": [],
   "source": [
    "# choose one available provider\n",
    "selected_provider = IBMQ.get_provider(hub='ibm-q')"
   ]
  },
  {
   "cell_type": "code",
   "execution_count": null,
   "metadata": {},
   "outputs": [],
   "source": [
    "# list backends available for this provider\n",
    "selected_provider.backends()"
   ]
  },
  {
   "cell_type": "code",
   "execution_count": null,
   "metadata": {},
   "outputs": [],
   "source": [
    "# select one of the avalable backends within this provider \n",
    "\n",
    "#backend = selected_provider.get_backend('ibmq_ourense')\n",
    "#backend = selected_provider.get_backend('ibmq_qasm_simulator')\n",
    "\n",
    "backend = selected_provider.get_backend('ibmqx2')"
   ]
  },
  {
   "cell_type": "code",
   "execution_count": null,
   "metadata": {},
   "outputs": [],
   "source": [
    "# view backend configuration (\"static parameters\")\n",
    "backend.configuration()"
   ]
  },
  {
   "cell_type": "code",
   "execution_count": null,
   "metadata": {},
   "outputs": [],
   "source": [
    "# or get just one parameter at a time\n",
    "print(f\"Number of qubits : {backend.configuration().n_qubits}\")\n",
    "\n",
    "if backend.configuration().simulator: \n",
    "    print(f\"Backend {backend.configuration().backend_name} is a simulator\")\n",
    "else:\n",
    "    print(f\"Backend {backend.configuration().backend_name} is a real quantum device\")\n"
   ]
  },
  {
   "cell_type": "code",
   "execution_count": null,
   "metadata": {},
   "outputs": [],
   "source": [
    "# view backend status (\"current parameters\")\n",
    "backend.status()"
   ]
  },
  {
   "cell_type": "code",
   "execution_count": null,
   "metadata": {},
   "outputs": [],
   "source": [
    "selected_provider.backends(simulator=False, operational=True)"
   ]
  },
  {
   "cell_type": "code",
   "execution_count": null,
   "metadata": {},
   "outputs": [],
   "source": [
    "# wraping it up:\n",
    "\n",
    "sp = IBMQ.get_provider(hub='ibm-q')   # selected provider\n",
    "\n",
    "backends_set = set()\n",
    "for b in selected_provider.backends():\n",
    "    backends_set.add(str(b))\n",
    "   \n",
    "print(\"backend name        queue qubits operational status message\")\n",
    "print(\"------------------- ----- ------ ----------- --------------\")\n",
    "for b in backends_set: \n",
    "    be = sp.get_backend(b)\n",
    "    pj = be.status().pending_jobs\n",
    "    qb = be.configuration().n_qubits\n",
    "    op = be.status().operational \n",
    "    sm = be.status().status_msg\n",
    "    print(f\"{b:20} {pj:4} {qb:6}{op:12} {sm:6}\")"
   ]
  },
  {
   "cell_type": "code",
   "execution_count": null,
   "metadata": {},
   "outputs": [],
   "source": [
    "# choisir le backend en fonction de ce qu'on vient de voir:\n",
    "backend = sp.get_backend('ibmq_essex')\n",
    "backend.name()"
   ]
  },
  {
   "cell_type": "code",
   "execution_count": null,
   "metadata": {},
   "outputs": [],
   "source": [
    "backend.status()"
   ]
  },
  {
   "cell_type": "code",
   "execution_count": null,
   "metadata": {},
   "outputs": [],
   "source": [
    "# execution\n",
    "\n",
    "from qiskit.tools.monitor import job_monitor\n",
    "\n",
    "job = execute(circ,backend, shots=1000)\n",
    "\n",
    "job_monitor(job)\n"
   ]
  },
  {
   "cell_type": "code",
   "execution_count": null,
   "metadata": {},
   "outputs": [],
   "source": [
    "## lit le résultat\n",
    "res = job.result()"
   ]
  },
  {
   "cell_type": "code",
   "execution_count": null,
   "metadata": {},
   "outputs": [],
   "source": [
    "from qiskit.tools.visualization import plot_histogram\n",
    "\n",
    "d = (res.get_counts(circ))\n",
    "plot_histogram(d)"
   ]
  },
  {
   "cell_type": "code",
   "execution_count": null,
   "metadata": {},
   "outputs": [],
   "source": [
    "d"
   ]
  },
  {
   "cell_type": "markdown",
   "metadata": {},
   "source": [
    "<div class=\"alert alert-block alert-danger\">\n",
    "\n",
    "### Contre l'effet démo: "
   ]
  },
  {
   "cell_type": "code",
   "execution_count": null,
   "metadata": {},
   "outputs": [],
   "source": [
    "from IPython.display import Image, display\n",
    "print(\"résultat obtenu auparavent:\")\n",
    "filename = './images/bellResult.png'\n",
    "display(Image(filename=filename))\n",
    "#display(Image(filename=filename, width=600))"
   ]
  }
 ],
 "metadata": {
  "kernelspec": {
   "display_name": "Python 3",
   "language": "python",
   "name": "python3"
  },
  "language_info": {
   "codemirror_mode": {
    "name": "ipython",
    "version": 3
   },
   "file_extension": ".py",
   "mimetype": "text/x-python",
   "name": "python",
   "nbconvert_exporter": "python",
   "pygments_lexer": "ipython3",
   "version": "3.7.3"
  }
 },
 "nbformat": 4,
 "nbformat_minor": 2
}
