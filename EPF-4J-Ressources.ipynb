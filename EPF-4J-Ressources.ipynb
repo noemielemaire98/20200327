{
 "cells": [
  {
   "cell_type": "markdown",
   "metadata": {},
   "source": [
    "<table>\n",
    "   <tr>\n",
    "     <td><img src=\"./images/epf-header.png\" alt=\"Note: In order for images to show up in this jupyter notebook you need to select File => Trusted Notebook\" width=\"500 px\" align=\"left\"></td>\n",
    "      </tr>\n",
    "</table>\n",
    "\n",
    "## <center>Sources & Resources </center>\n",
    "\n",
    "Jean-Michel Torres, IBM Q Hub France, torresjm@fr.ibm.com\n",
    "\n",
    "***Star***, download : \n",
    "\n",
    "# https://github.com/jmit34/20200327\n",
    "\n",
    "### Content: \n",
    "<ol>\n",
    "    <li>Further readings</li>\n",
    "    <li>Books</li>\n",
    "    <li>Miscellaneous stuff (MOOCS, Youtube, links...)</li>\n",
    "</ol>"
   ]
  },
  {
   "cell_type": "markdown",
   "metadata": {},
   "source": [
    "<div class=\"alert alert-block alert-success\">\n",
    "\n",
    "# 1. Further readings\n",
    "</div>"
   ]
  },
  {
   "cell_type": "markdown",
   "metadata": {},
   "source": [
    "### <a href=\"https://qiskit.org/textbook/preface.html\">Learn Quantum Computation using Qiskit</a>\n",
    "\n",
    "<img src=\"./images/textbook.png\" alt=\"Note: In order for images to show up in this jupyter notebook you need to select File => Trusted Notebook\" width=\"500 px\" align=\"center\">\n"
   ]
  },
  {
   "cell_type": "markdown",
   "metadata": {},
   "source": [
    "## <a href=\"https://www.research.ibm.com/ibm-q/\">IBM Quantum portal</a>\n",
    "\n",
    "<img src=\"./images/IBMQ.png\" alt=\"Note: In order for images to show up in this jupyter notebook you need to select File => Trusted Notebook\" width=\"400 px\" align=\"center\">\n"
   ]
  },
  {
   "cell_type": "markdown",
   "metadata": {},
   "source": [
    "### <a href=\"https://qiskit.org/\">QISKit : documentations, tutorials, GitHub</a>\n",
    "\n",
    "<img src=\"./images/qiskitOrg.png\" alt=\"Note: In order for images to show up in this jupyter notebook you need to select File => Trusted Notebook\" width=\"500 px\" align=\"center\">\n",
    "\n"
   ]
  },
  {
   "cell_type": "markdown",
   "metadata": {},
   "source": [
    "<div class=\"alert alert-block alert-success\">\n",
    "    \n",
    "# 2. Books\n",
    "</div>"
   ]
  },
  {
   "cell_type": "markdown",
   "metadata": {},
   "source": [
    "## Leonard Susskind, Art Freidman: Mécanique Quantique, Le minimum Théorique\n",
    "### Presses polytechniques et universitaires romandes\n",
    "<br>\n",
    "<img src=\"./images/susskindFriedman.jpg\" alt=\"Note: In order for images to show up in this jupyter notebook you need to select File => Trusted Notebook\" width=\"400 px\" align=\"center\">\n",
    "<br>\n",
    "Pas de calcul quantique, les notions utiles de mécanique quantique pour comprendre la notion de qubit, superposition, intrication, opérateur, mesure. Très clair. Existe en Anglais et en Français. "
   ]
  },
  {
   "cell_type": "markdown",
   "metadata": {},
   "source": [
    "### David McMahon, Quantum Computing Explained, Wiley.\n",
    "<br>\n",
    "<img src=\"./images/cover-mcmahon.jpg\" alt=\"Note: In order for images to show up in this jupyter notebook you need to select File => Trusted Notebook\" width=\"400 px\" align=\"center\">\n",
    "<br>\n",
    "\n",
    "Beaucoup d'exemples et d'exercices."
   ]
  },
  {
   "cell_type": "markdown",
   "metadata": {},
   "source": [
    "### David Mermin, Calculs et Algorithmes Quantiques, \n",
    "#### EDP Sciences, CNRS Editions\n",
    "<br>\n",
    "<img src=\"./images/cover-mermin.jpg\" alt=\"Note: In order for images to show up in this jupyter notebook you need to select File => Trusted Notebook\" width=\"400 px\" align=\"center\">\n",
    "<br>\n",
    "Ouvrage assez détaillé, dans le vif du sujet : le calcul quantique (pas la mécanique quantique). Existe en Anglais et en Français."
   ]
  },
  {
   "cell_type": "markdown",
   "metadata": {},
   "source": [
    "## Dr Christine Corbett Moran : Mastering Quantum Computing with IBM QX \n",
    "### Packt Publishing\n",
    "<br>\n",
    "<img src=\"./images/mastering-qc-with-IBM-QX.jpg\" alt=\"Note: In order for images to show up in this jupyter notebook you need to select File => Trusted Notebook\" width=\"300 px\" align=\"center\">\n",
    "<br>\n",
    "Assez simple et pratique, très orienté programmation"
   ]
  },
  {
   "cell_type": "markdown",
   "metadata": {},
   "source": [
    "## Robert S. Sutor : Dancing with Qubits \n",
    "### Packt Publishing\n",
    "<br>\n",
    "<img src=\"./images/dancing-with-qubits.jpg\" alt=\"Note: In order for images to show up in this jupyter notebook you need to select File => Trusted Notebook\" width=\"400 px\" align=\"center\">\n",
    "<br>\n",
    "Ouvrage assez complet, avec une approche détaillée mais très abordable du modèle mathématique. La moitié du livre est consacrée aux outils et modèles mathématiques."
   ]
  },
  {
   "cell_type": "markdown",
   "metadata": {},
   "source": [
    "## Michael A. Nielsen and Isaac L. Chuang : Quantum Computation and Quantum Information\n",
    "### Cambridge.\n",
    "<br>\n",
    "<img src=\"./images/cover-NielsenChuang.jpg\" alt=\"Note: In order for images to show up in this jupyter notebook you need to select File => Trusted Notebook\" width=\"400 px\" align=\"center\">\n",
    "<br>\n",
    "\n",
    "Il s'agit de l'ouvrage de référence, tous les domaines sont couverts, en détail. "
   ]
  },
  {
   "cell_type": "markdown",
   "metadata": {},
   "source": [
    "<div class=\"alert alert-block alert-success\">\n",
    "    \n",
    "# 3. Others\n",
    "</div>"
   ]
  },
  {
   "cell_type": "markdown",
   "metadata": {},
   "source": [
    "## <a href=\"https://www.youtube.com/channel/UClBNq7mCMf5xm8baE_VMl3A\">QISKit channel on Youtube</a>\n",
    "<img src=\"./images/yt-qiskit.png\" alt=\"Note: In order for images to show up in this jupyter notebook you need to select File => Trusted Notebook\" width=\"800 px\" align=\"left\">\n"
   ]
  },
  {
   "cell_type": "markdown",
   "metadata": {},
   "source": [
    "### MOOC EdX : Isaac Chuang & Peter Shor, Quantum Information Science I, Part 1\n",
    "\n",
    "<br>\n",
    "<img src=\"./images/MOOCedX.png\" alt=\"Note: In order for images to show up in this jupyter notebook you need to select File => Trusted Notebook\" width=\"800 px\" align=\"center\">\n",
    "<br>"
   ]
  },
  {
   "cell_type": "markdown",
   "metadata": {},
   "source": [
    "## CoorpAcademy + IBM : MOOC en français \n",
    "Vulgarisation grand public\n",
    "<br>\n",
    "<img src=\"./images/logo-coorpacademy.png\" alt=\"Note: In order for images to show up in this jupyter notebook you need to select File => Trusted Notebook\" width=\"300 px\" align=\"center\">\n",
    "<br><br>\n",
    "\n",
    "<br>\n",
    "<img src=\"./images/home-coorpacademy.png\" alt=\"Note: In order for images to show up in this jupyter notebook you need to select File => Trusted Notebook\" width=\"400 px\" align=\"center\">\n",
    "<br><br>\n",
    "\n",
    "\n",
    "<img src=\"./images/mooc-coorpacademy.png\" alt=\"Note: In order for images to show up in this jupyter notebook you need to select File => Trusted Notebook\" width=\"400 px\" align=\"center\">\n",
    "<br>"
   ]
  },
  {
   "cell_type": "markdown",
   "metadata": {},
   "source": [
    "### <a href=\"https://www.oezratty.net/wordpress/\">Opinions Libres : le Blog D'Olivier Ezratty. </a>\n",
    "<img src=\"./images/logo-Ezratty.png\" alt=\"Note: In order for images to show up in this jupyter notebook you need to select File => Trusted Notebook\" width=\"600 px\" align=\"center\">\n",
    "\n",
    "<br>\n",
    "\n",
    "#### et son célèbre ebook:\n",
    "\n",
    "<br>\n",
    "<img src=\"./images/cover-ezratty.png\" alt=\"Note: In order for images to show up in this jupyter notebook you need to select File => Trusted Notebook\" width=\"400 px\" align=\"center\">"
   ]
  },
  {
   "cell_type": "markdown",
   "metadata": {},
   "source": [
    "### Introduction et généralités : \n",
    "https://www.openscience.fr/Une-nouvelle-ere-de-l-informatique\n",
    "<br>\n",
    "<img src=\"./images/open-science-article.png\" alt=\"Note: In order for images to show up in this jupyter notebook you need to select File => Trusted Notebook\" width=\"800 px\" align=\"center\">\n",
    "<br>"
   ]
  },
  {
   "cell_type": "markdown",
   "metadata": {},
   "source": [
    "#### Fundational Patterns for Efficient Quantum Computing :\n",
    "\n",
    "https://arxiv.org/pdf/1907.11513.pdf\n"
   ]
  },
  {
   "cell_type": "markdown",
   "metadata": {},
   "source": [
    "- la machine à dillution https://www.youtube.com/watch?v=7jT5rbE69ho Quantum Cooling to (Near) Absolute Zero, Prof Andrea Morello , 2Veritassium\n",
    "- Minute Physics https://www.youtube.com/watch?v=lvTqbM5Dq4Q How Quantum Computers Break Encryption | Shor's Algorithm Explained"
   ]
  },
  {
   "cell_type": "markdown",
   "metadata": {},
   "source": [
    "QPONG\n",
    "\n",
    "- GitHub repo : https://github.com/HuangJunye/QPong\n",
    "\n",
    "Calcul\n",
    "- Youtube chaîne Wandida (EPFL) https://www.youtube.com/watch?v=exaHKrP6RsA Complexité d'un algorithme: définition et exemple | Rachid Guerraoui\n",
    "- Youtube chaîne Wandida (EPFL) https://www.youtube.com/watch?v=clZ4q5zPBlE Méthode de calcul de la complexité d'un algorithme | Rachid Guerraoui\n",
    "- Youtube chaîne Science 4 All : https://www.youtube.com/watch?v=zlPWnNxBUCY La machine de Turing : Intelligence Artificielle 4 | Lê Nguyên Hoang\n",
    "\n",
    "- Youtube chaîne The Coding Train : https://www.youtube.com/watch?v=bGz7mv2vD6g Coding Challenge: Smart Rockets in p5.js | Daniel Shiffman\n",
    "\n",
    "Qubits\n",
    "- Tangente HS 71, Les équations de la physique moderne.\n"
   ]
  }
 ],
 "metadata": {
  "kernelspec": {
   "display_name": "Python 3",
   "language": "python",
   "name": "python3"
  },
  "language_info": {
   "codemirror_mode": {
    "name": "ipython",
    "version": 3
   },
   "file_extension": ".py",
   "mimetype": "text/x-python",
   "name": "python",
   "nbconvert_exporter": "python",
   "pygments_lexer": "ipython3",
   "version": "3.7.3"
  }
 },
 "nbformat": 4,
 "nbformat_minor": 2
}
