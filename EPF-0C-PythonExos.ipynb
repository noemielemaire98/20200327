{
 "cells": [
  {
   "cell_type": "markdown",
   "metadata": {},
   "source": [
    "\n",
    "<table>\n",
    "       <tr>\n",
    "           <td><img src=\"./images/epf-header.png\" alt=\"Note: In order for images to show up in this jupyter notebook you need to select File => Trusted Notebook\" width=\"600 px\" align=\"left\"></td>\n",
    "       </tr>\n",
    "</table>\n",
    "\n",
    "\n",
    "# Exercices avec Python\n",
    "\n",
    "Jean-Michel Torres 2020-03-07, IBM Q Hub France\n",
    "\n",
    "Star & Download from: https://github.com/jmit34/20200327\n",
    "\n",
    "Sources: \n",
    "- Python au Lycée, Arnaud Bodin, Exo7\n",
    "- 101 Enigmes mathématiques résolues avec Python, Nicolas Lecouvey, Editions Ellipses\n"
   ]
  },
  {
   "cell_type": "markdown",
   "metadata": {},
   "source": [
    "### 1. Trouver et compter les entiers entre 0 et 999, se terminant par 3, avec le chiffre des dizaines pair et dont la somme des chiffres est supérieure ou égale à 15."
   ]
  },
  {
   "cell_type": "code",
   "execution_count": null,
   "metadata": {},
   "outputs": [],
   "source": []
  },
  {
   "cell_type": "markdown",
   "metadata": {},
   "source": [
    "###  2. Trouver l'unique carré à 6 chiffre qui est un palindrome. \n",
    "\n",
    "indications: \n",
    "- le slicing `[::-1]` permet d'inverser les éléments d'une liste\n",
    "- 316 au carré vaut presque 100000, 1000 au carré vaut 1000000"
   ]
  },
  {
   "cell_type": "code",
   "execution_count": null,
   "metadata": {},
   "outputs": [],
   "source": []
  },
  {
   "cell_type": "markdown",
   "metadata": {},
   "source": [
    "### 3. Ecrire une fonction qui renvoie `True`si le nombre passé en paramètres est premier, `False` sinon. "
   ]
  },
  {
   "cell_type": "code",
   "execution_count": null,
   "metadata": {},
   "outputs": [],
   "source": []
  },
  {
   "cell_type": "code",
   "execution_count": null,
   "metadata": {},
   "outputs": [],
   "source": [
    "print(est_premier(53001))"
   ]
  },
  {
   "cell_type": "markdown",
   "metadata": {},
   "source": [
    "### 4. Nombres de Fermat, les nombre de la forme $2^{2^{n}} + 1$ sont-ils premiers ?))"
   ]
  },
  {
   "cell_type": "code",
   "execution_count": null,
   "metadata": {},
   "outputs": [],
   "source": [
    "\n"
   ]
  },
  {
   "cell_type": "markdown",
   "metadata": {},
   "source": [
    "### 5. Nombres premiers jumeaux : il s'agit de 2 nombres premiers a et b tels que b = a+2\n",
    "\n",
    "Par exemple 11 et 13, 17 et 19... \n",
    "\n",
    "Ecrire un programme qui à partir d'un nombre entier donné cherche les prochains nombres premiers jumeaux. "
   ]
  },
  {
   "cell_type": "code",
   "execution_count": null,
   "metadata": {},
   "outputs": [],
   "source": [
    "#nombre premiers jumeaux, définition : sont séparés de 2\n"
   ]
  },
  {
   "cell_type": "markdown",
   "metadata": {},
   "source": [
    "### 6. Nombres premiers de Germain"
   ]
  },
  {
   "cell_type": "code",
   "execution_count": null,
   "metadata": {},
   "outputs": [],
   "source": [
    "#nombre premiers de Germain, définition : p et 2p+1 sont premiers\n"
   ]
  },
  {
   "cell_type": "markdown",
   "metadata": {},
   "source": [
    "### 7. La tombola : combien faut-il offrir d'albums de bande dessinée à 19€35, de DVDs à 24€55 et de jeux de société à 39€15 pour former un lot d'une valeur de 1000€ exactement ?"
   ]
  },
  {
   "cell_type": "code",
   "execution_count": null,
   "metadata": {},
   "outputs": [],
   "source": [
    "\n",
    "\n",
    "        "
   ]
  },
  {
   "cell_type": "markdown",
   "metadata": {},
   "source": [
    "### 8. Distance de Hamming:"
   ]
  },
  {
   "cell_type": "code",
   "execution_count": null,
   "metadata": {},
   "outputs": [],
   "source": [
    "def dist_hamming(mot1,mot2):\n",
    "  \n",
    "\n",
    "\n",
    "\n",
    "print(dist_hamming(\"SAPINS\",\"SATINS\"))"
   ]
  },
  {
   "cell_type": "markdown",
   "metadata": {},
   "source": [
    "### 9. Suite de Syracuse"
   ]
  },
  {
   "cell_type": "markdown",
   "metadata": {},
   "source": [
    "Ecrire une fonction qui pour un entier donné applique l'agorithme suivant: \n",
    "  \n",
    "- si n est pair : n <- n/2 \n",
    "- si n est impair : n <- 3n+1\n",
    "- quand n vaut 1 : fin\n",
    "\n",
    "afficher la liste des valeurs de n, calculer la longueur (nombre d'itérations pour arriver à 1) et l'altitude (plus haute valeur atteinte par l'algorithme.\n",
    "\n",
    "\n",
    "- le temps de vol : c'est le plus petit indice n tel que un = 1.\n",
    "\n",
    "    - _Il est de 17 pour la suite de Syracuse 15 et de 46 pour la suite de Syracuse 127_\n",
    "\n",
    "- le temps de vol en altitude : c'est le plus petit indice n tel que un+1 < u0.\n",
    "\n",
    "  - _Il est de 10 pour la suite de Syracuse 15 et de 23 pour la suite de Syracuse 127_\n",
    "\n",
    "- l'altitude maximale : c'est la valeur maximale de la suite.\n",
    "\n",
    "  - _Elle est de 160 pour la suite de Syracuse 15 et de 4 372 pour la suite de Syracuse 127_\n"
   ]
  },
  {
   "cell_type": "code",
   "execution_count": null,
   "metadata": {},
   "outputs": [],
   "source": [
    "%matplotlib inline\n",
    "import matplotlib.pylab as plt\n",
    "\n",
    "def syracuse(n):\n",
    "    s_liste = [n]  # enregistre les termes de la suite de seed n\n",
    "    altitude = 0   # plus haute valeur atteinte\n",
    "    iterations = 0 # nombre d'itération\n",
    "    u = n          # terme de la suite\n",
    "    while u > 1:\n",
    "        if u % 2 == 0: \n",
    "            u /= 2\n",
    "        else:\n",
    "            u = 3 * u + 1\n",
    "        iterations += 1\n",
    "        s_liste.append(u)\n",
    "        if u > altitude:\n",
    "            altitude = u\n",
    "    return s_liste, altitude, iterations\n",
    "\n",
    "\n",
    "source = 2919\n",
    "#source = 2020\n",
    "la_liste, hauteur, nombre = syracuse(source)\n",
    "\n",
    "print(hauteur,nombre)\n",
    "\n",
    "indice = range(nombre+1)\n",
    "\n",
    "plt.plot(indice,la_liste)\n",
    "plt.xlabel('indices', fontsize = 'medium')\n",
    "plt.ylabel('valeurs', fontsize = 'medium')\n"
   ]
  },
  {
   "cell_type": "markdown",
   "metadata": {},
   "source": [
    "On peut aussi pour un range de nombres : afficher les altitudes et les longueurs : "
   ]
  },
  {
   "cell_type": "markdown",
   "metadata": {},
   "source": [
    "Affichage des longueurs:"
   ]
  },
  {
   "cell_type": "code",
   "execution_count": null,
   "metadata": {},
   "outputs": [],
   "source": []
  },
  {
   "cell_type": "markdown",
   "metadata": {},
   "source": [
    "Affichage des altitudes: "
   ]
  },
  {
   "cell_type": "code",
   "execution_count": null,
   "metadata": {},
   "outputs": [],
   "source": [
    "import matplotlib.pylab as plt\n",
    "\n"
   ]
  },
  {
   "cell_type": "markdown",
   "metadata": {},
   "source": [
    "Affichage en 3d des altitudes et des longeurs pour un range de valeurs"
   ]
  },
  {
   "cell_type": "code",
   "execution_count": null,
   "metadata": {},
   "outputs": [],
   "source": [
    "from mpl_toolkits import mplot3d\n",
    "\n",
    "%matplotlib inline\n",
    "import numpy as np\n",
    "import matplotlib.pyplot as plt\n",
    "\n",
    "\n",
    "ax = plt.axes(projection='3d')\n",
    "\n",
    "\n",
    "def syracuse(n):\n",
    "    altitude = 0\n",
    "    iterations = 0 # nombre d'itération\n",
    "    while n > 1:\n",
    "        if n > altitude:\n",
    "            altitude = n\n",
    "        if n % 2 == 0: \n",
    "            n /= 2\n",
    "        else:\n",
    "            n = 3 * n + 1\n",
    "        iterations += 1\n",
    "    return iterations, altitude\n",
    "\n",
    "longueurs = []\n",
    "altitudes = []\n",
    "axe3 = []\n",
    "\n",
    "for source in range(1980,2030): \n",
    "    l,a = syracuse(source)\n",
    "    altitudes.append(a)\n",
    "    longueurs.append(l)\n",
    "    axe3.append(source)\n",
    "    \n",
    "print(len(longueurs))\n",
    "\n",
    "\n",
    "#plt.plot(axe3,longueurs,altitudes)\n",
    "\n",
    "ax.scatter3D(axe3, longueurs, altitudes, c=altitudes, cmap='Greens');"
   ]
  },
  {
   "cell_type": "markdown",
   "metadata": {},
   "source": [
    "### 10. Sorting : example of algorithm performance\n",
    "\n",
    "##### Deep dive into an example : sorting data. \n",
    "\n",
    "<ul><li>a. Let's build a small duration mesurement and plotting tool</li>\n",
    "    <li>b. Try a naive sort algorithm and try to determine computational complexity.</li> \n",
    "    <li>c. Then use the QUICKSORT algorithm.</li>\n",
    "    <li>d. How does pyton sort() compares ?</li>\n",
    "</ul>\n"
   ]
  },
  {
   "cell_type": "markdown",
   "metadata": {},
   "source": [
    "a. Duration plotting tool"
   ]
  },
  {
   "cell_type": "code",
   "execution_count": null,
   "metadata": {},
   "outputs": [],
   "source": [
    "import matplotlib.pyplot as plt\n",
    "\n",
    "# this will be our array of problem size\n",
    "x = [1,2,3,4,5,10,20]\n",
    "\n",
    "# this will be the run duration\n",
    "y = [1,4,9,16,25,100,400]\n",
    "\n",
    "plt.plot(x,y,color=\"blue\")\n",
    "\n",
    "print(\"this is what a O(n2) algorithm would result in\")"
   ]
  },
  {
   "cell_type": "markdown",
   "metadata": {},
   "source": [
    "b. Now lets build a naive sorting algo: \"bubble sort\""
   ]
  },
  {
   "cell_type": "code",
   "execution_count": null,
   "metadata": {},
   "outputs": [],
   "source": [
    "import random\n",
    "\n",
    "def my_sort(arr):\n",
    "    # run n time through the array, and if the next item value is smaller than the \n",
    "    # current item value : swap those items in the array. (ascending sort)\n",
    "    \n",
    "\n",
    "# define n : the size of your array\n",
    "n = 100\n",
    "# define an array of n random numbers\n",
    "arr = [int(random.random()*1000 + 0.5) for i in range(n)]\n",
    "print(arr)\n",
    "print(my_sort(arr))\n",
    "\n"
   ]
  },
  {
   "cell_type": "markdown",
   "metadata": {},
   "source": [
    "#### What is the O() for this sorting algorithm ?\n",
    "\n",
    "Reuse the bubble sort algo, implementing an exectution timer: \n",
    "Use time() function in time library to determine starting time (after the array is loaded) and ending time (after sort is done)."
   ]
  },
  {
   "cell_type": "code",
   "execution_count": null,
   "metadata": {},
   "outputs": [],
   "source": [
    "import random\n",
    "import time\n",
    "\n",
    "n= 2000\n",
    "arr = [random.random() for i in range(n)]\n",
    "start_time = time.time()\n",
    "\n",
    "for i in range(n):\n",
    "    for j in range(n-1):\n",
    "        if arr[j+1] < arr[j]:\n",
    "            arr[j+1], arr[j] = arr[j], arr[j+1]\n",
    "end_time = time.time()\n",
    "\n",
    "duration = end_time - start_time\n",
    "print(f\"sorting an array of {n} numbers done in {duration:.2f} seconds\")"
   ]
  },
  {
   "cell_type": "markdown",
   "metadata": {},
   "source": [
    "Now build the function that inputs a size and returns the execution time for the bubble-sort. "
   ]
  },
  {
   "cell_type": "code",
   "execution_count": null,
   "metadata": {},
   "outputs": [],
   "source": [
    "import random\n",
    "import time\n",
    "\n",
    "def get_bubble_sort_time(n):\n",
    "    arr = [random.random() for i in range(n)]\n",
    "    start_time = time.time()\n",
    "\n",
    "    for i in range(n):\n",
    "        for j in range(n-1):\n",
    "            if arr[j+1] < arr[j]:\n",
    "                arr[j+1], arr[j] = arr[j], arr[j+1]\n",
    "    end_time = time.time()\n",
    "    return  end_time - start_time\n",
    "\n",
    "print(get_bubble_sort_time(6000))"
   ]
  },
  {
   "cell_type": "markdown",
   "metadata": {},
   "source": [
    "Call this function from a list of sizes, build a list of durations, plot"
   ]
  },
  {
   "cell_type": "code",
   "execution_count": null,
   "metadata": {},
   "outputs": [],
   "source": [
    "import random\n",
    "import time\n",
    "import matplotlib.pyplot as plt\n",
    "\n",
    "def get_bubble_sort_time(n):\n",
    "    arr = [random.random() for i in range(n)]\n",
    "    start_time = time.time()\n",
    "    for i in range(n):\n",
    "        for j in range(n-1):\n",
    "            if arr[j+1] < arr[j]:\n",
    "                arr[j+1], arr[j] = arr[j], arr[j+1]\n",
    "                end_time = time.time()\n",
    "    return  end_time - start_time\n",
    "\n",
    "times = []\n",
    "sizes = [500,1000,1500,2000,2500,3000,3500,4000,4500,5000]\n",
    "for n in sizes: \n",
    "    times.append(get_bubble_sort_time(n))\n",
    "\n",
    "plt.plot(sizes,times,color=\"blue\")"
   ]
  },
  {
   "cell_type": "markdown",
   "metadata": {},
   "source": [
    "c. Now to the QUICKSORT (ref. Youtube/\"The Coding Train\" April 4 2019)\n",
    "\n",
    "Quicksort was described by Tony Hoare in 1961. It is a recursive algorithm: \n",
    "<ol>\n",
    "    <li>The recursive function applies to one part of the array to be sorted.</li>\n",
    "    <li>First call is on the whole array (from index 0 to array length)</li>\n",
    "    <li>the function has inputs: array, and 2 indexes (smaller or equal to array length)</li>\n",
    "    <li> while the 2 indexes are not equal, the function calculates a \"pivot_index\" and will then call itself twice : once for the sub-array at the left of the pivotindex, and once for the subarray at the right</li>\n",
    "    <li> to calculate a pivotindex on the array (or a subarray):<ul>\n",
    "    <li> we move to the left part all values lower than pivotvalue (value of the last item (arbitrary chosing the last item value as pivotvalue)) and leave the values greater the pivotvalue to it's right</li></ul>\n",
    "    </li></ol>"
   ]
  },
  {
   "cell_type": "code",
   "execution_count": null,
   "metadata": {},
   "outputs": [],
   "source": [
    "import random\n",
    "\n",
    "def swap(arr,i,j):\n",
    "    ### swaps i and j values in array a\n",
    "    t = arr[i]\n",
    "    arr[i] = arr[j]\n",
    "    arr[j] = t \n",
    "    \n",
    "def quicksort(arr, start, end):\n",
    "    \n",
    "\n",
    "def partition(arr,s,e):\n",
    "    \n",
    "\n",
    "######################################################\n",
    "size = 50_000\n",
    "arr = [random.random() for i in range(size)]\n",
    "size = len(arr)\n",
    "start_time = time.time()\n",
    "\n",
    "quicksort(arr, 0, size-1 )\n",
    "\n",
    "end_time = time.time()\n",
    "duration = end_time - start_time\n",
    "\n",
    "print(f\"Total execution time: {duration:.1f} seconds\")"
   ]
  },
  {
   "cell_type": "markdown",
   "metadata": {},
   "source": [
    "call the quicksort with a list of sizes, build a list of durations, plot"
   ]
  },
  {
   "cell_type": "code",
   "execution_count": null,
   "metadata": {},
   "outputs": [],
   "source": [
    "import random\n",
    "import time\n",
    "import matplotlib.pyplot as plt\n",
    "\n",
    "def swap(arr,i,j):\n",
    "    ### swaps i and j values in array a\n",
    "    t = arr[i]\n",
    "    arr[i] = arr[j]\n",
    "    arr[j] = t \n",
    "    \n",
    "def quicksort(arr, start, end):\n",
    "    \n",
    "\n",
    "def partition(arr,s,e):\n",
    "   \n",
    "\n",
    "def get_quicksort_time(n):\n",
    "    arr = [random.random() for i in range(n)]\n",
    "    start_time = time.time()\n",
    "    quicksort(arr,0,n-1)\n",
    "    end_time = time.time()\n",
    "    return  end_time - start_time\n",
    "\n",
    "times = []\n",
    "sizes = [10000,20000,30000,40000,50000,60000,70000,80000,90000,100000]\n",
    "for n in sizes:\n",
    "    times.append(get_quicksort_time(n))\n",
    "\n",
    "print(times)\n",
    "plt.plot(sizes,times,color=\"blue\")"
   ]
  },
  {
   "cell_type": "markdown",
   "metadata": {},
   "source": [
    "Finally, see what the Python included sort() function does "
   ]
  },
  {
   "cell_type": "code",
   "execution_count": null,
   "metadata": {},
   "outputs": [],
   "source": [
    "import random\n",
    "import time\n",
    "import matplotlib.pyplot as plt\n",
    "\n",
    "def get_python_sort_time(n):\n",
    "    arr = [random.random() for i in range(n)]\n",
    "    start_time = time.time()\n",
    "    arr.sort()\n",
    "    end_time = time.time()\n",
    "    return  end_time - start_time\n",
    "\n",
    "times = []\n",
    "sizes = [50000,100000,200000,300000,400000,500000,600000,700000]\n",
    "for n in sizes: \n",
    "    times.append(get_quicksort_time(n))\n",
    "\n",
    "print(times)\n",
    "plt.plot(sizes,times,color=\"blue\")"
   ]
  },
  {
   "cell_type": "markdown",
   "metadata": {},
   "source": [
    "### 10. Decimals of $\\pi$\n",
    "\n",
    "\n",
    "$\\pi = 3,141 592 653 589 793 238 462 643 383 279 502 884 197 169 399 375 10 ... $"
   ]
  },
  {
   "cell_type": "markdown",
   "metadata": {},
   "source": [
    "### 10.1 Decimals of $\\pi$ with Monte-Carlo simulation"
   ]
  },
  {
   "cell_type": "code",
   "execution_count": null,
   "metadata": {},
   "outputs": [],
   "source": [
    "import time\n",
    "from random import random\n",
    "start_time = time.time()\n",
    "\n",
    "#---> calculation starts here\n",
    "iterations = int(input(\"how many shots ? :\"))  \n",
    "hit = 0                                 # counter of random hits with module < 1 \n",
    "for i in range(iterations):\n",
    "    if random()**2 + random()**2 < 1:   # random(a,b) returns a pseudo random float\n",
    "        hit += 1                        # between a & b. Default : between 0 and 1 \n",
    "#---> calulation ends here\n",
    "\n",
    "end_time = time.time()\n",
    "duration = end_time - start_time\n",
    "\n",
    "print(f\"Total execution time: {duration:.1f} seconds\")\n",
    "print(f\"estimation of PI = {4 * hit / iterations}\")"
   ]
  },
  {
   "cell_type": "markdown",
   "metadata": {},
   "source": [
    "### 10.2 Decimals of $\\pi$ with better maths"
   ]
  },
  {
   "cell_type": "markdown",
   "metadata": {},
   "source": [
    "### 10.2.1 Viète formula 1593 (after [François Viète](https://en.wikipedia.org/wiki/Fran%C3%A7ois_Vi%C3%A8te), 1540-1603):\n",
    "\n",
    "\\begin{equation}\n",
    "\\pi = 2\\times\\frac{2}{\\sqrt{2}} \\times \\frac{2}{\\sqrt{2 + \\sqrt{2}}} \\times \\frac{2}{\\sqrt{2 + \\sqrt{2 + \\sqrt{2}}}}  \\times ... \\times \\frac{2}{\\sqrt{2+\\sqrt{2+\\sqrt{2+\\sqrt{2 + ...}}}}}\n",
    "\\end{equation}"
   ]
  },
  {
   "cell_type": "code",
   "execution_count": null,
   "metadata": {},
   "outputs": [],
   "source": []
  },
  {
   "cell_type": "markdown",
   "metadata": {},
   "source": [
    "### 10.2.2 Wallis formula 1656 (after [John Wallis](https://en.wikipedia.org/wiki/John_Wallis), 1616-1703)\n",
    "\n",
    "\\begin{equation}\n",
    "{\\displaystyle {\\pi }=2 \\times \\prod _{n=1}^{\\infty }{\\frac {4n^{2}}{4n^{2}-1}}}\n",
    "\\end{equation}"
   ]
  },
  {
   "cell_type": "code",
   "execution_count": null,
   "metadata": {},
   "outputs": [],
   "source": []
  },
  {
   "cell_type": "markdown",
   "metadata": {},
   "source": [
    "### 10.2.3 Using Euler formula and Huffini-Horner to calculate decimals of $\\pi$\n",
    "\n",
    "### 10.2.3.a Euler development of Arctan\n",
    "\\begin{equation}\n",
    "\\forall x\\in [-1,1] \\quad \\arctan(x)=\\sum _{n=0}^{\\infty }{\\frac {2^{2n}(n!)^{2}}{(2n+1)!}}{\\frac {x^{2n+1}}{(1+x^{2})^{n+1}}}\n",
    "\\end{equation}\n",
    "\n",
    "\n",
    "With $ \\frac{\\pi}{4} = \\arctan(1)$, we can plug x=1 in the Euler development : \n",
    "\n",
    "\\begin{equation}\n",
    "\\frac{\\pi}{4} = \\sum _{n=0}^{\\infty }{\\frac {2^{2n}(n!)^{2}}{(2n+1)!}}{\\frac {1^{2n+1}}{(1+1^{2})^{n+1}}}\n",
    "\\end{equation}\n",
    "\n",
    "With $1+1^2=1$ and $1^k = 1$, we can also reduce de power of 2 up and down to get: \n",
    "\n",
    "\\begin{equation}\n",
    "\\frac{\\pi}{4} = \\sum _{n=0}^{\\infty }{\\frac {2^{2n}(n!)^{2}}{(2n+1)!}}{\\frac {1}{2^{n+1}}} = \\frac{1}{2}\\sum _{n=0}^{\\infty }{\\frac {2^n(n!)^{2}}{(2n+1)!}}\n",
    "\\end{equation}\n",
    "\n",
    "Multiply left and right by 4, and moving out the term for n=0 :\n",
    "\n",
    "\\begin{equation}\n",
    "\\pi = 2\\sum _{n=0}^{\\infty }{\\frac {2^n(n!)^{2}}{(2n+1)!}} = 2 + 2 \\sum _{n=1}^{\\infty }{\\frac {2^n(n!)^{2}}{(2n+1)!}}\n",
    "\\end{equation}\n",
    "\n",
    "\n",
    "note that: \n",
    "\n",
    "\\begin{equation}\n",
    "\\frac{2^n(n!)^2}{(2n+1)!} = \\frac{n!\\times (2^n \\times n!)}{(2n+1)!} = n!\\times\\frac{(2\\times1)\\times(2\\times2)\\times(2\\times3)\\times(2\\times4)\\times(2\\times5)\\times ... \\times(2\\times n)}{1\\times2\\times3\\times4\\times5 ... \\times(2n+1)}\n",
    "\\end{equation}\n",
    "\n",
    "which simplifies into : \n",
    "\n",
    "\\begin{equation}\n",
    "n!\\times\\frac{1}{1\\times3\\times5\\times7 ... \\times(2n+1)} = \\frac{1\\times2\\times3\\times4 ... \\times n}{1\\times3\\times5\\times7 ... \\times(2n+1)} \n",
    "\\end{equation}\n",
    "\n",
    "Now we have : \n",
    "\n",
    "\\begin{equation}\n",
    "\\pi = 2 + 2 \\sum _{n=1}^{\\infty }{\\frac{1\\times2\\times3\\times4 ... \\times n}{1\\times3\\times5\\times7 ... \\times(2n+1)} }\n",
    "\\end{equation}\n",
    "\n",
    "\n",
    "At this point we can calculate an estimation for $\\pi\\$ based on Euler's formula:"
   ]
  },
  {
   "cell_type": "code",
   "execution_count": null,
   "metadata": {},
   "outputs": [],
   "source": []
  }
 ],
 "metadata": {
  "kernelspec": {
   "display_name": "Python 3",
   "language": "python",
   "name": "python3"
  },
  "language_info": {
   "codemirror_mode": {
    "name": "ipython",
    "version": 3
   },
   "file_extension": ".py",
   "mimetype": "text/x-python",
   "name": "python",
   "nbconvert_exporter": "python",
   "pygments_lexer": "ipython3",
   "version": "3.7.3"
  }
 },
 "nbformat": 4,
 "nbformat_minor": 2
}
