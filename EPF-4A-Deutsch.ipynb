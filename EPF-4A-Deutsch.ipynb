{
 "cells": [
  {
   "cell_type": "markdown",
   "metadata": {},
   "source": [
    "<table>\n",
    "   <tr>\n",
    "     <td><img src=\"./images/epf-header.png\" alt=\"Note: In order for images to show up in this jupyter notebook you need to select File => Trusted Notebook\" width=\"500 px\" align=\"left\"></td>\n",
    "      </tr>\n",
    "</table>\n",
    "\n",
    "## <center>TP avec QISKit : Problème de Deutsch</center>\n",
    "\n",
    "Jean-Michel Torres, 20200307, IBM Q Hub France, torresjm@fr.ibm.com</em>\n",
    "\n",
    "***Star***, download, ou utiliser depuis `mybinder` : \n",
    "\n",
    "# https://github.com/jmit34/20200327\n",
    "\n"
   ]
  },
  {
   "cell_type": "markdown",
   "metadata": {},
   "source": [
    "<div class=\"alert alert-block alert-success\">\n",
    "    \n",
    "#  Smallest quantum algorithm example : Deutsch\n",
    "</div>"
   ]
  },
  {
   "cell_type": "markdown",
   "metadata": {},
   "source": [
    "Juste avant d'étudier cet algorithme en particulier, un mot sur ce qui fait le fameux \"parallélisme\" du calcul quantique: "
   ]
  },
  {
   "cell_type": "markdown",
   "metadata": {},
   "source": [
    "![parallelisme](./images/parallelism.png)\n",
    "\n",
    "\n",
    "<div class=\"alert alert-block alert-warning\">\n",
    "    \n",
    "**L'état de sortie \"contient\" les valeurs de $f(x)$ : $f(0..0), f(0..1) ... f(1..1)$ pour toutes les valeurs de $x$, après que $U_f$ ait été appliqué une seule fois.**\n",
    "\n",
    "**Ensuite, il faut obtenir une mesure \"utile\"...** \n",
    "\n",
    "Voyons un exemple élémentaire, avec $x$ sur un seul qubit.\n",
    "\n",
    "</div>\n",
    "\n",
    "# Le problème de Deutsch:"
   ]
  },
  {
   "cell_type": "markdown",
   "metadata": {},
   "source": [
    "<img src=\"./images/Deutsch.jpg\" alt=\"Note: In order for images to show up in this jupyter notebook you need to select File => Trusted Notebook\" width=\"250 px\" align=\"center\">\n",
    "\n",
    "Soit $f$ une fonction de $\\{0,1\\}$ vers $\\{0,1\\} :  f : x \\in \\{0,1\\} ⟼ \\{0,1\\}$, elle peut être *constante* ou *équilibrée*. Pour savoir si elle est constante ou équilibrée, un algorithme classique devra évaluer la fonction $f$ pour chacune des valeurs d'entrée, donc deux fois. \n",
    "\n",
    "En 1985, David Deutsch a montré qu'un algorithme quantique pouvait répondre à cette question en une seule \"fois\". \n",
    "En 1992, David Deutsch et Richard Josza ont étendu cet algorithme au cas de $N$ bits d'entrée ($2^N$ valeurs possibles)\n",
    "\n",
    "<img src=\"./images/f0f1f2f3.png\" alt=\"Note: In order for images to show up in this jupyter notebook you need to select File => Trusted Notebook\" width=\"400 px\" align=\"center\">\n",
    "\n",
    "#### Construisons les fonctions $f_0, f_1,f_2,f_3$, et excutons l'algorithme de Deutsh pour lequel le résultat $0$ indique une fonction constante et le résultat $1$ indique une fonction équilibrée:\n",
    "\n",
    "<img src=\"./images/deutschfunctions.png\" alt=\"Note : In order for images to show up in this jupyter notebook you need to select File => Trusted Notebook\" width=\"600 px\" align=\"center\">\n",
    "\n",
    "\n",
    "<img src=\"./images/DeutschAlgo.png\" alt=\"Note : In order for images to show up in this jupyter notebook you need to select File => Trusted Notebook\" width=\"600 px\" align=\"center\">"
   ]
  },
  {
   "cell_type": "code",
   "execution_count": 1,
   "metadata": {},
   "outputs": [],
   "source": [
    "from qiskit import QuantumRegister, QuantumCircuit, ClassicalRegister, execute\n",
    "from qiskit import Aer   \n",
    "backend = Aer.get_backend('qasm_simulator')"
   ]
  },
  {
   "cell_type": "markdown",
   "metadata": {},
   "source": [
    "<div class=\"alert alert-block alert-warning\">\n",
    "    \n",
    "### $U_{f_0}$ : $f_0(0) = f_0(1) = 0$ : CONSTANTE (donne 0)"
   ]
  },
  {
   "cell_type": "code",
   "execution_count": 4,
   "metadata": {},
   "outputs": [
    {
     "data": {
      "image/png": "[encoded data removed]",
      "text/plain": [
       "<Figure size 216.72x144.48 with 1 Axes>"
      ]
     },
     "execution_count": 4,
     "metadata": {},
     "output_type": "execute_result"
    }
   ],
   "source": [
    "Uf0 = QuantumCircuit(2, name='Uf0')\n",
    "\n",
    "Uf0.iden([0])\n",
    "Uf0.iden([1])\n",
    "\n",
    "Uf0.to_instruction()\n",
    "Uf0.draw(output='mpl')"
   ]
  },
  {
   "cell_type": "code",
   "execution_count": 5,
   "metadata": {},
   "outputs": [
    {
     "data": {
      "image/png": "[encoded data removed]",
      "text/plain": [
       "<Figure size 457.52x204.68 with 1 Axes>"
      ]
     },
     "execution_count": 5,
     "metadata": {},
     "output_type": "execute_result"
    }
   ],
   "source": [
    "DA = QuantumCircuit(2,1)\n",
    "DA.x([1])\n",
    "DA.h([0,1])\n",
    "DA.append(Uf0,[0,1])\n",
    "DA.h([0])\n",
    "DA.measure([0],[0])\n",
    "DA.draw(output='mpl')"
   ]
  },
  {
   "cell_type": "code",
   "execution_count": 6,
   "metadata": {},
   "outputs": [
    {
     "name": "stdout",
     "output_type": "stream",
     "text": [
      "{'0': 1024}\n"
     ]
    }
   ],
   "source": [
    "# define job, get results\n",
    "job = execute(DA,backend,shots=1024)\n",
    "DA_result = job.result()\n",
    "print(DA_result.get_counts(DA))  "
   ]
  },
  {
   "cell_type": "markdown",
   "metadata": {},
   "source": [
    "<div class=\"alert alert-block alert-warning\">\n",
    "    \n",
    "# $U_{f_1}$ : $f_1(0) = 0, f_1(1) = 1$ : EQUILIBRÉE (donne 1)"
   ]
  },
  {
   "cell_type": "code",
   "execution_count": null,
   "metadata": {},
   "outputs": [],
   "source": [
    "Uf1 = QuantumCircuit(2, name='Uf1')\n",
    "\n",
    "\n",
    "\n",
    "Uf1.to_instruction()\n",
    "Uf1.draw(output='mpl')"
   ]
  },
  {
   "cell_type": "code",
   "execution_count": null,
   "metadata": {},
   "outputs": [],
   "source": [
    "DA = QuantumCircuit(2,1)\n",
    "DA.x([1])\n",
    "DA.h([0,1])\n",
    "DA.append(Uf1,[0,1])\n",
    "DA.h([0])\n",
    "DA.measure([0],[0])\n",
    "DA.draw(output='mpl')"
   ]
  },
  {
   "cell_type": "code",
   "execution_count": null,
   "metadata": {},
   "outputs": [],
   "source": [
    "# define job, get results\n",
    "job = execute(DA,backend,shots=1024)\n",
    "DA_result = job.result()\n",
    "print(DA_result.get_counts(DA))  "
   ]
  },
  {
   "cell_type": "markdown",
   "metadata": {},
   "source": [
    "<div class=\"alert alert-block alert-warning\">\n",
    "    \n",
    " # $U_{f_2}$ : $f_2(0) = 1, f_2(1) = 0$ : EQUILIBRÉE (donne 1)"
   ]
  },
  {
   "cell_type": "code",
   "execution_count": null,
   "metadata": {},
   "outputs": [],
   "source": [
    "Uf2 = QuantumCircuit(2, name='Uf2')\n",
    "\n",
    "\n",
    "\n",
    "\n",
    "Uf2.to_instruction()\n",
    "Uf2.draw(output='mpl')"
   ]
  },
  {
   "cell_type": "code",
   "execution_count": null,
   "metadata": {},
   "outputs": [],
   "source": [
    "DA = QuantumCircuit(2,1)\n",
    "DA.x([1])\n",
    "DA.h([0,1])\n",
    "DA.append(Uf2,[0,1])\n",
    "DA.h([0])\n",
    "DA.measure([0],[0])\n",
    "DA.draw(output='mpl')"
   ]
  },
  {
   "cell_type": "code",
   "execution_count": null,
   "metadata": {},
   "outputs": [],
   "source": [
    "# define job, get results\n",
    "job = execute(DA,backend,shots=1024)\n",
    "DA_result = job.result()\n",
    "print(DA_result.get_counts(DA))  "
   ]
  },
  {
   "cell_type": "markdown",
   "metadata": {},
   "source": [
    "<div class=\"alert alert-block alert-warning\">\n",
    "    \n",
    "# $U_{f_3}$ : $f(0) = f(1) = 1$ : CONSTANTE (donne 0)"
   ]
  },
  {
   "cell_type": "code",
   "execution_count": null,
   "metadata": {},
   "outputs": [],
   "source": [
    "Uf3 = QuantumCircuit(2, name='Uf3')\n",
    "\n",
    "\n",
    "\n",
    "Uf3.to_instruction()\n",
    "Uf3.draw(output='mpl')"
   ]
  },
  {
   "cell_type": "code",
   "execution_count": null,
   "metadata": {},
   "outputs": [],
   "source": [
    "DA = QuantumCircuit(2,1)\n",
    "DA.x([1])\n",
    "DA.h([0,1])\n",
    "DA.append(Uf3,[0,1])\n",
    "DA.h([0])\n",
    "DA.measure([0],[0])\n",
    "DA.draw(output='mpl')"
   ]
  },
  {
   "cell_type": "code",
   "execution_count": null,
   "metadata": {},
   "outputs": [],
   "source": [
    "# define job, get results\n",
    "job = execute(DA,backend,shots=1024)\n",
    "DA_result = job.result()\n",
    "print(DA_result.get_counts(DA))  "
   ]
  },
  {
   "cell_type": "markdown",
   "metadata": {},
   "source": [
    "<div class=\"alert alert-block alert-info\">\n",
    "Les mathématiques correspondantes sont un peu plus délicates (sans vraiment dépasser le niveau d'une classe de terminale scientifique): \n",
    "    <img src=\"./images/DeutschAlgo.png\" alt=\"Note: In order for images to show up in this jupyter notebook you need to select File => Trusted Notebook\" width=\"600 px\" align=\"center\">\n",
    "\n",
    "Calculons les états du système de gauche à droite: \n",
    "\\begin{equation}\n",
    "|\\psi_1⟩ = |0⟩\\otimes|1⟩\n",
    "\\end{equation}\n",
    "\n",
    "\\begin{equation}\n",
    "|\\psi_2⟩ = \\frac{1}{\\sqrt{2}}(|0⟩+|1⟩) \\otimes \\frac{1}{\\sqrt{2}}(|0⟩-|1⟩)\n",
    "\\end{equation}\n",
    "\n",
    "\\begin{equation}\n",
    "|\\psi_2⟩ = \\frac{1}{2}(|0⟩(|0⟩-|1⟩) + |1⟩(|0⟩-|1⟩)\n",
    "\\end{equation}\n",
    "\n",
    "\\begin{equation}\n",
    "|\\psi_2⟩ = \\frac{1}{2}\\sum_{x=0}^{x=1}|x⟩(|0⟩-|1⟩)\n",
    "\\end{equation}\n",
    "\n",
    "\\begin{equation}\n",
    "|\\psi_2⟩ = \\frac{1}{2}\\sum_{x=0}^{x=1}(|x⟩|0⟩-|x⟩|1⟩)\n",
    "\\end{equation}\n",
    "\n",
    "\\begin{equation}\n",
    "|\\psi_3⟩ = \\frac{1}{2}\\sum_{x=0}^{x=1}(|x⟩|0\\oplus f(x)⟩-|x⟩|1\\oplus f(x)⟩)\n",
    "\\end{equation}\n",
    "\n",
    "Avec, de manière évidente:\n",
    "- Si $f(x) = 0$ alors $0\\oplus f(x) = 0$ et $1\\oplus f(x) = 1$\n",
    "\n",
    "- Si $f(x) = 1$ alors $0\\oplus f(x) = 1$ et $1\\oplus f(x) = 0$  \n",
    "\n",
    "Donc: \n",
    "\n",
    "- Si $f(x) = 0$ alors $|x⟩|0\\oplus f(x)⟩- |x⟩|1\\oplus f(x) ⟩ = |x⟩|0⟩-|x⟩|1⟩ =|x⟩(|0⟩-|1⟩$\n",
    "\n",
    "- Si $f(x) = 1$ alors $|x⟩|0\\oplus f(x)⟩- |x⟩|1\\oplus f(x) ⟩ = |x⟩|1⟩-|x⟩|0⟩ = -|x⟩(|0⟩-|1⟩$\n",
    "\n",
    "Et donc: \n",
    "\n",
    "$|x⟩|0\\oplus f(x)⟩ - |x⟩|1 \\oplus f(x) ⟩ = (-1)^{f(x)}|x⟩(|0⟩-|1⟩)$\n",
    "\n",
    "Ce qui donne:\n",
    "\n",
    "\\begin{equation}\n",
    "|\\psi_3⟩ = \\frac{1}{2}\\sum_{x=0}^{x=1}(-1)^{f(x)}|x⟩(|0⟩-|1⟩) = \\frac{1}{2}\\left(\\sum_{x=0}^{x=1}(-1)^{f(x)}|x⟩\\right)(|0⟩-|1⟩\n",
    "\\end{equation}\n",
    "\n",
    "\\begin{equation}\n",
    "|\\psi_3⟩  = \\frac{1}{2}\\left((-1)^{f(0)}|0⟩ + (-1)^{f(1)}|1⟩\\right)(|0⟩-|1⟩)\n",
    "\\end{equation}\n",
    "\n",
    "Il reste à passer le qubit 0 par la porte $H$: \n",
    "\n",
    "\n",
    "\\begin{equation}\n",
    "|\\psi_4⟩  = \\frac{1}{2}\\left((-1)^{f(0)}\\frac{1}{\\sqrt{2}}(|0⟩+|1⟩) + (-1)^{f(1)}\\frac{1}{\\sqrt{2}}(|0⟩-|1⟩)\\right)(|0⟩-|1⟩)\n",
    "\\end{equation}\n",
    "\n",
    "\\begin{equation}\n",
    "|\\psi_4⟩ = \\frac{1}{2\\sqrt{2}}\\left(\\left((-1)^{f(0)}+(-1)^{f(1)}\\right)|0⟩ + \\left((-1)^{f(0)}-(-1)^{f(1)}\\right)|1⟩\\right) (|0⟩-|1⟩)\n",
    "\\end{equation}\n",
    "\n",
    "Alors, on voit que: \n",
    "\n",
    "- Si $f(0) = f(1)$ alors une mesure sur le premier qubit donne $|0⟩$\n",
    "- Si $f(0) ≠ f(1)$ alors une mesure sur le premier qubit donne $|1⟩$"
   ]
  }
 ],
 "metadata": {
  "kernelspec": {
   "display_name": "Python 3",
   "language": "python",
   "name": "python3"
  },
  "language_info": {
   "codemirror_mode": {
    "name": "ipython",
    "version": 3
   },
   "file_extension": ".py",
   "mimetype": "text/x-python",
   "name": "python",
   "nbconvert_exporter": "python",
   "pygments_lexer": "ipython3",
   "version": "3.7.3"
  }
 },
 "nbformat": 4,
 "nbformat_minor": 2
}
